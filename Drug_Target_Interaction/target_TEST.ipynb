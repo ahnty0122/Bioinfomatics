{
 "cells": [
  {
   "cell_type": "markdown",
   "id": "upset-result",
   "metadata": {},
   "source": [
    "직접 target 설정"
   ]
  },
  {
   "cell_type": "code",
   "execution_count": 6,
   "id": "opened-postcard",
   "metadata": {},
   "outputs": [],
   "source": [
    "from DeepPurpose import utils, dataset\n",
    "from DeepPurpose import DTI as models\n",
    "import warnings\n",
    "warnings.filterwarnings(\"ignore\")"
   ]
  },
  {
   "cell_type": "code",
   "execution_count": 2,
   "id": "personal-submission",
   "metadata": {},
   "outputs": [],
   "source": [
    "t = 'MTEYKLVVVGAGGVGKSALTIQLIQNHFVDEYDPTIEDSYRKQVVIDGETCLLDILDTAGQEEYSAMRDQYMRTGEGFLCVFAINNTKSFEDIHHYREQIKRVKDSEDVPMVLVGNKCDLPSRTVDTKQAQDLARSYGIPFIETSAKTRQRVEDAFYTLVREIRQYRLKKISKEEKTPGCVKIKKCIIM'\n",
    "t_name = 'KRAS'"
   ]
  },
  {
   "cell_type": "code",
   "execution_count": 7,
   "id": "concrete-scanner",
   "metadata": {},
   "outputs": [
    {
     "name": "stdout",
     "output_type": "stream",
     "text": [
      "Repurposing Drug 1 Name: 7-[[(2E)-2-(2-Amino-1,3-thiazol-4-yl)-2-methoxyiminoacetyl]amino]-3-[(1-methyltetrazol-5-yl)sulfanylmethyl]-8-oxo-5-thia-1-azabicyclo[4.2.0]oct-2-ene-2-carboxylic acid\n",
      "Repurposing Drug 1 SMILES: CO\\N=C(\\C(=O)NC1C2SCC(CSc3nnnn3C)=C(N2C1=O)C(O)=O)c1csc(N)n1\n",
      "Repurposing Drug 1 Pubchem CID: 9577231.0\n"
     ]
    }
   ],
   "source": [
    "r, r_name, r_pubchem_cid = dataset.load_broad_repurposing_hub()\n",
    "print('Repurposing Drug 1 Name: ' + r_name[0])\n",
    "print('Repurposing Drug 1 SMILES: ' + r[0])\n",
    "print('Repurposing Drug 1 Pubchem CID: ' + str(r_pubchem_cid[0]))"
   ]
  },
  {
   "cell_type": "code",
   "execution_count": 10,
   "id": "pretty-killer",
   "metadata": {},
   "outputs": [
    {
     "name": "stdout",
     "output_type": "stream",
     "text": [
      "Dataset already downloaded in the local system...\n"
     ]
    },
    {
     "data": {
      "text/plain": [
       "<DeepPurpose.DTI.DBTA at 0x1e4b769a4e0>"
      ]
     },
     "execution_count": 10,
     "metadata": {},
     "output_type": "execute_result"
    }
   ],
   "source": [
    "model = models.model_pretrained(model = 'Morgan_CNN_KIBA')\n",
    "model"
   ]
  },
  {
   "cell_type": "code",
   "execution_count": 11,
   "id": "molecular-locking",
   "metadata": {},
   "outputs": [
    {
     "name": "stdout",
     "output_type": "stream",
     "text": [
      "repurposing...\n",
      "Drug Target Interaction Prediction Mode...\n",
      "in total: 6111 drug-target pairs\n",
      "encoding drug...\n",
      "unique drugs: 6111\n",
      "encoding protein...\n",
      "unique target sequence: 1\n",
      "-- Encoding AAC takes time. Time Reference: 24s for ~100 sequences in a CPU.\t\t\t\t Calculate your time by the unique target sequence #, instead of the entire dataset.\n",
      "Done.\n",
      "predicting...\n",
      "---------------\n",
      "Drug Repurposing Result for KRAS\n",
      "+------+-------------------------------------------------------------------------------------------------------------------------------------------------------------------------------------------------------------------------------------------------------------------------------------------------------------------------------------------------------------------------------------------------------------------------------------------------------------------------------------------------------------------------------------------------------------------------------------------------------------+-------------+---------------+\n",
      "| Rank |                                                                                                                                                                                                                                                                                                  Drug Name                                                                                                                                                                                                                                                                                                  | Target Name | Binding Score |\n",
      "+------+-------------------------------------------------------------------------------------------------------------------------------------------------------------------------------------------------------------------------------------------------------------------------------------------------------------------------------------------------------------------------------------------------------------------------------------------------------------------------------------------------------------------------------------------------------------------------------------------------------------+-------------+---------------+\n",
      "|  1   |                                                                                                                                                                                                                                                           4-{2-[(7-Amino-2-Furan-2-Yl[1,2,4]triazolo[1,5-A][1,3,5]triazin-5-Yl)amino]ethyl}phenol                                                                                                                                                                                                                                                           |     KRAS    |      2.84     |\n",
      "|  2   |                                                                                                                                                                                                                                                             2-(Furan-2-yl)-7-phenethyl-7H-pyrazolo[4,3-e][1,2,4]triazolo[1,5-c]pyrimidin-5-amine                                                                                                                                                                                                                                                            |     KRAS    |      3.12     |\n",
      "|  3   |                                                                                                                                                                                                                                                                                          Dorzolamide, (+/-)-(cis)-                                                                                                                                                                                                                                                                                          |     KRAS    |      3.88     |\n",
      "|  4   |                                                                                                                                                                                                                                2-[(3R,5R,6S)-5-(3-Chlorophenyl)-6-(4-chlorophenyl)-3-methyl-1-[(2S)-3-methyl-1-propan-2-ylsulfonylbutan-2-yl]-2-oxopiperidin-3-yl]acetic acid                                                                                                                                                                                                                               |     KRAS    |      4.09     |\n",
      "|  5   |                                                                                                                                                                                                                                                                                                 Zolmitriptan                                                                                                                                                                                                                                                                                                |     KRAS    |      4.19     |\n",
      "|  6   |                                                                                                                                                                                                                                                                                                 Brinzolamide                                                                                                                                                                                                                                                                                                |     KRAS    |      4.19     |\n",
      "|  7   |                                                                                                                                                                                                                                                                                                 Idasanutlin                                                                                                                                                                                                                                                                                                 |     KRAS    |      4.82     |\n",
      "|  8   |                                                                                                                                                                                                                                                                                              2-Methoxyestradiol                                                                                                                                                                                                                                                                                             |     KRAS    |      7.81     |\n",
      "|  9   |                                                                                                                                                                                                                                                                                                Androstanolone                                                                                                                                                                                                                                                                                               |     KRAS    |      8.00     |\n",
      "|  10  |                                                                                                                                                                                                                                                                                              Mometasone furoate                                                                                                                                                                                                                                                                                             |     KRAS    |      9.07     |\n",
      "checkout ./result/repurposing.txt for the whole list\n"
     ]
    }
   ],
   "source": [
    "y_pred = models.repurpose(X_repurpose = r, target = t, model = model, drug_names = r_name, target_name = t_name, \n",
    "                          result_folder = \"./result/\", convert_y = True)"
   ]
  },
  {
   "cell_type": "code",
   "execution_count": 21,
   "id": "outer-claim",
   "metadata": {},
   "outputs": [],
   "source": [
    "'''t = 'MAAEDVIICAQQCSGRCRGKSPSDCCHNQCAAGCTGPRESDCLVCRKFRDEATCKDTCPPLMLYNPTTYQMDVNPEGKYSFGATCVKKCPRNYVVTDHGSCVRACGADSYEMEEDGVRKCKKCEGPCRKVCNGIGIGEFKDSLSINATNIKHFKNCTSISGDLHILPVAFRGDSFTHTPPLDPQELDILKTVKEITGFLLIQAWPENRTDLHAFENLEIIRGRTKQHGQFSLAVVSLNITSLGLRSLKEISDGDVIISGNKNLCYANTINWKKLFGTSGQKTKIISNRGENSCKATGQVCHALCSPEGCWGPEPRDCVSCRNVSRGRECVDKCNLLEGEPREFVENSECIQCHPECLPQAMNITCTGRGPDNCIQCAHYIDGPHCVKTCPAGVMGENNTLVWKYADAGHVCHLCHPNCTYGCTGPGLEGCPTNGPKIPSIATGMVGALLLLLVVALGIGPLHGR'\n",
    "t_name = 'EGFR''''"
   ]
  }
 ],
 "metadata": {
  "kernelspec": {
   "display_name": "Python 3",
   "language": "python",
   "name": "python3"
  },
  "language_info": {
   "codemirror_mode": {
    "name": "ipython",
    "version": 3
   },
   "file_extension": ".py",
   "mimetype": "text/x-python",
   "name": "python",
   "nbconvert_exporter": "python",
   "pygments_lexer": "ipython3",
   "version": "3.6.12"
  }
 },
 "nbformat": 4,
 "nbformat_minor": 5
}
