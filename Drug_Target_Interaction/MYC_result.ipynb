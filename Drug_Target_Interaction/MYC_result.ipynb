{
 "cells": [
  {
   "cell_type": "code",
   "execution_count": 2,
   "id": "outdoor-providence",
   "metadata": {},
   "outputs": [],
   "source": [
    "import pandas as pd"
   ]
  },
  {
   "cell_type": "code",
   "execution_count": 4,
   "id": "compact-parameter",
   "metadata": {},
   "outputs": [],
   "source": [
    "df0 = pd.read_csv('./result/MYC/CNN_CNN_BindingDB.txt', delimiter = '\\t')\n",
    "df1 = pd.read_csv('./result/MYC/CNN_CNN_BindingDB_IC50.txt', delimiter = '\\t')\n",
    "df2 = pd.read_csv('./result/MYC/CNN_CNN_DAVIS.txt', delimiter = '\\t')\n",
    "df3 = pd.read_csv('./result/MYC/Daylight_AAC_BindingDB.txt', delimiter = '\\t')\n",
    "df4 = pd.read_csv('./result/MYC/Daylight_AAC_BindingDB_IC50.txt', delimiter = '\\t')\n",
    "df5 = pd.read_csv('./result/MYC/Daylight_AAC_DAVIS.txt', delimiter = '\\t')\n",
    "df6 = pd.read_csv('./result/MYC/Daylight_AAC_KIBA.txt', delimiter = '\\t')\n",
    "df7 = pd.read_csv('./result/MYC/Morgan_AAC_BindingDB.txt', delimiter = '\\t')\n",
    "df8 = pd.read_csv('./result/MYC/Morgan_AAC_BindingDB_IC50.txt', delimiter = '\\t')\n",
    "df9 = pd.read_csv('./result/MYC/Morgan_AAC_DAVIS.txt', delimiter = '\\t')\n",
    "df10 = pd.read_csv('./result/MYC/Morgan_AAC_KIBA.txt', delimiter = '\\t')\n",
    "df11 = pd.read_csv('./result/MYC/Morgan_CNN_BindingDB.txt', delimiter = '\\t')\n",
    "df12 = pd.read_csv('./result/MYC/Morgan_CNN_BindingDB_IC50.txt', delimiter = '\\t')\n",
    "df13 = pd.read_csv('./result/MYC/Morgan_CNN_DAVIS.txt', delimiter = '\\t')\n",
    "df14 = pd.read_csv('./result/MYC/MPNN_CNN_BindingDB.txt', delimiter = '\\t')\n",
    "df15 = pd.read_csv('./result/MYC/MPNN_CNN_BindingDB_IC50.txt', delimiter = '\\t')\n",
    "df16 = pd.read_csv('./result/MYC/MPNN_CNN_DAVIS.txt', delimiter = '\\t')\n",
    "df17 = pd.read_csv('./result/MYC/MPNN_CNN_KIBA.txt', delimiter = '\\t')\n",
    "df18 = pd.read_csv('./result/MYC/Transformer_CNN_BindingDB.txt', delimiter = '\\t')\n",
    "df19 = pd.read_csv('./result/MYC/myc_repurposing.txt', delimiter = '\\t')"
   ]
  },
  {
   "cell_type": "markdown",
   "id": "surprising-headset",
   "metadata": {},
   "source": [
    "df0 ~ df19까지 상위 30개 목록 추출 후 최빈값 확인"
   ]
  },
  {
   "cell_type": "code",
   "execution_count": 5,
   "id": "computational-bibliography",
   "metadata": {},
   "outputs": [
    {
     "data": {
      "text/plain": [
       "UNK                                                                       10\n",
       "L-Proline                                                                  4\n",
       "Amitriptyline                                                              4\n",
       "alpha-D-Glucose                                                            4\n",
       "Streptozocin                                                               3\n",
       "                                                                          ..\n",
       "Isomaltosaccharide                                                         1\n",
       "Aspartic acid                                                              1\n",
       "Phenol                                                                     1\n",
       "2,2-Dimethylbutyric acid                                                   1\n",
       "2-Chloro-3-(3-fluoro-4-hydroxyphenyl)-6-[(E)-hydroxyiminomethyl]phenol     1\n",
       "Name: Drug Name, Length: 481, dtype: int64"
      ]
     },
     "execution_count": 5,
     "metadata": {},
     "output_type": "execute_result"
    }
   ],
   "source": [
    "all_pretrained = pd.concat([df0.tail(30), df1.tail(30), df2.tail(30), df3.tail(30), df4.tail(30), df5.tail(30), df6.tail(30), df7.tail(30), df8.tail(30), df9.tail(30), df10.tail(30), df11.tail(30), df12.tail(30), df13.tail(30), df14.tail(30), df15.tail(30), df16.tail(30), df17.tail(30), df18.tail(30)])\n",
    "all_pretrained['Drug Name'].value_counts()"
   ]
  },
  {
   "cell_type": "code",
   "execution_count": 6,
   "id": "human-claim",
   "metadata": {},
   "outputs": [
    {
     "data": {
      "text/html": [
       "<div>\n",
       "<style scoped>\n",
       "    .dataframe tbody tr th:only-of-type {\n",
       "        vertical-align: middle;\n",
       "    }\n",
       "\n",
       "    .dataframe tbody tr th {\n",
       "        vertical-align: top;\n",
       "    }\n",
       "\n",
       "    .dataframe thead th {\n",
       "        text-align: right;\n",
       "    }\n",
       "</style>\n",
       "<table border=\"1\" class=\"dataframe\">\n",
       "  <thead>\n",
       "    <tr style=\"text-align: right;\">\n",
       "      <th></th>\n",
       "      <th>Drug Name</th>\n",
       "    </tr>\n",
       "  </thead>\n",
       "  <tbody>\n",
       "    <tr>\n",
       "      <th>UNK</th>\n",
       "      <td>10</td>\n",
       "    </tr>\n",
       "    <tr>\n",
       "      <th>L-Proline</th>\n",
       "      <td>4</td>\n",
       "    </tr>\n",
       "    <tr>\n",
       "      <th>Amitriptyline</th>\n",
       "      <td>4</td>\n",
       "    </tr>\n",
       "    <tr>\n",
       "      <th>alpha-D-Glucose</th>\n",
       "      <td>4</td>\n",
       "    </tr>\n",
       "    <tr>\n",
       "      <th>Streptozocin</th>\n",
       "      <td>3</td>\n",
       "    </tr>\n",
       "    <tr>\n",
       "      <th>...</th>\n",
       "      <td>...</td>\n",
       "    </tr>\n",
       "    <tr>\n",
       "      <th>Isomaltosaccharide</th>\n",
       "      <td>1</td>\n",
       "    </tr>\n",
       "    <tr>\n",
       "      <th>Aspartic acid</th>\n",
       "      <td>1</td>\n",
       "    </tr>\n",
       "    <tr>\n",
       "      <th>Phenol</th>\n",
       "      <td>1</td>\n",
       "    </tr>\n",
       "    <tr>\n",
       "      <th>2,2-Dimethylbutyric acid</th>\n",
       "      <td>1</td>\n",
       "    </tr>\n",
       "    <tr>\n",
       "      <th>2-Chloro-3-(3-fluoro-4-hydroxyphenyl)-6-[(E)-hydroxyiminomethyl]phenol</th>\n",
       "      <td>1</td>\n",
       "    </tr>\n",
       "  </tbody>\n",
       "</table>\n",
       "<p>481 rows × 1 columns</p>\n",
       "</div>"
      ],
      "text/plain": [
       "                                                    Drug Name\n",
       "UNK                                                        10\n",
       "L-Proline                                                   4\n",
       "Amitriptyline                                               4\n",
       "alpha-D-Glucose                                             4\n",
       "Streptozocin                                                3\n",
       "...                                                       ...\n",
       "Isomaltosaccharide                                          1\n",
       "Aspartic acid                                               1\n",
       "Phenol                                                      1\n",
       "2,2-Dimethylbutyric acid                                    1\n",
       "2-Chloro-3-(3-fluoro-4-hydroxyphenyl)-6-[(E)-hy...          1\n",
       "\n",
       "[481 rows x 1 columns]"
      ]
     },
     "execution_count": 6,
     "metadata": {},
     "output_type": "execute_result"
    }
   ],
   "source": [
    "MYC_drug_name = all_pretrained['Drug Name'].value_counts()\n",
    "MYC_drug_name = pd.DataFrame(MYC_drug_name)\n",
    "MYC_drug_name"
   ]
  },
  {
   "cell_type": "code",
   "execution_count": 7,
   "id": "naughty-colorado",
   "metadata": {},
   "outputs": [],
   "source": [
    "MYC_drug_name.to_csv(\"MYC_drug_name.txt\", sep = '\\t', index = True)"
   ]
  },
  {
   "cell_type": "markdown",
   "id": "adjusted-police",
   "metadata": {},
   "source": [
    "모든 모델 추론 결과의 binding score 상위 30개 저장"
   ]
  },
  {
   "cell_type": "code",
   "execution_count": 8,
   "id": "composite-spelling",
   "metadata": {},
   "outputs": [],
   "source": [
    "f0 = df0.tail(30)\n",
    "f0.to_csv('./result/MYC_top30/CNN_CNN_BindingDB.txt', sep = '\\t', index = False)\n",
    "f1 = df1.tail(30)\n",
    "f1.to_csv('./result/MYC_top30/CNN_CNN_BindingDB_IC50.txt', sep = '\\t', index = False)\n",
    "f2 = df2.tail(30)\n",
    "f2.to_csv('./result/MYC_top30/CNN_CNN_DAVIS.txt', sep = '\\t', index = False)\n",
    "f3 = df3.tail(30)\n",
    "f3.to_csv('./result/MYC_top30/Daylight_AAC_BindingDB.txt', sep = '\\t', index = False)\n",
    "f4 = df4.tail(30)\n",
    "f4.to_csv('./result/MYC_top30/Daylight_AAC_BindingDB_IC50.txt', sep = '\\t', index = False)\n",
    "f5 = df5.tail(30)\n",
    "f5.to_csv('./result/MYC_top30/Daylight_AAC_DAVIS.txt', sep = '\\t', index = False)\n",
    "f6 = df6.tail(30)\n",
    "f6.to_csv('./result/MYC_top30/Daylight_AAC_KIBA.txt', sep = '\\t', index = False)\n",
    "f7 = df7.tail(30)\n",
    "f7.to_csv('./result/MYC_top30/Morgan_AAC_BindingDB.txt', sep = '\\t', index = False)\n",
    "f8 = df8.tail(30)\n",
    "f8.to_csv('./result/MYC_top30/Morgan_AAC_BindingDB_IC50.txt', sep = '\\t', index = False)\n",
    "f9 = df9.tail(30)\n",
    "f9.to_csv('./result/MYC_top30/Morgan_AAC_DAVIS.txt', sep = '\\t', index = False)\n",
    "f10 = df10.tail(30)\n",
    "f10.to_csv('./result/MYC_top30/Morgan_AAC_KIBA.txt', sep = '\\t', index = False)\n",
    "f11 = df11.tail(30)\n",
    "f11.to_csv('./result/MYC_top30/Morgan_CNN_BindingDB.txt', sep = '\\t', index = False)\n",
    "f12 = df12.tail(30)\n",
    "f12.to_csv('./result/MYC_top30/Morgan_CNN_BindingDB_IC50.txt', sep = '\\t', index = False)\n",
    "f13 = df13.tail(30)\n",
    "f13.to_csv('./result/MYC_top30/Morgan_CNN_DAVIS.txt', sep = '\\t', index = False)\n",
    "f14 = df14.tail(30)\n",
    "f14.to_csv('./result/MYC_top30/MPNN_CNN_BindingDB.txt', sep = '\\t', index = False)\n",
    "f15 = df15.tail(30)\n",
    "f15.to_csv('./result/MYC_top30/MPNN_CNN_BindingDB_IC50.txt', sep = '\\t', index = False)\n",
    "f16 = df16.tail(30)\n",
    "f16.to_csv('./result/MYC_top30/MPNN_CNN_DAVIS.txt', sep = '\\t', index = False)\n",
    "f17 = df17.tail(30)\n",
    "f17.to_csv('./result/MYC_top30/MPNN_CNN_KIBA.txt', sep = '\\t', index = False)\n",
    "f18 = df18.tail(30)\n",
    "f18.to_csv('./result/MYC_top30/Transformer_CNN_BindingDB.txt', sep = '\\t', index = False)\n",
    "f19 = df19.tail(30)\n",
    "f19.to_csv('./result/MYC_top30/ensemble_pretrained.txt', sep = '\\t', index = False)"
   ]
  },
  {
   "cell_type": "code",
   "execution_count": null,
   "id": "solved-cloud",
   "metadata": {},
   "outputs": [],
   "source": []
  }
 ],
 "metadata": {
  "kernelspec": {
   "display_name": "Python 3",
   "language": "python",
   "name": "python3"
  },
  "language_info": {
   "codemirror_mode": {
    "name": "ipython",
    "version": 3
   },
   "file_extension": ".py",
   "mimetype": "text/x-python",
   "name": "python",
   "nbconvert_exporter": "python",
   "pygments_lexer": "ipython3",
   "version": "3.6.12"
  }
 },
 "nbformat": 4,
 "nbformat_minor": 5
}
