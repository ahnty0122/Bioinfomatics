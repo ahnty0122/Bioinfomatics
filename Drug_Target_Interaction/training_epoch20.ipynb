{
 "cells": [
  {
   "cell_type": "code",
   "execution_count": 1,
   "id": "indonesian-texas",
   "metadata": {},
   "outputs": [
    {
     "name": "stderr",
     "output_type": "stream",
     "text": [
      "WARNING:root:No normalization for BCUT2D_MWHI\n",
      "WARNING:root:No normalization for BCUT2D_MWLOW\n",
      "WARNING:root:No normalization for BCUT2D_CHGHI\n",
      "WARNING:root:No normalization for BCUT2D_CHGLO\n",
      "WARNING:root:No normalization for BCUT2D_LOGPHI\n",
      "WARNING:root:No normalization for BCUT2D_LOGPLOW\n",
      "WARNING:root:No normalization for BCUT2D_MRHI\n",
      "WARNING:root:No normalization for BCUT2D_MRLOW\n"
     ]
    }
   ],
   "source": [
    "import DeepPurpose.DTI as models\n",
    "from DeepPurpose.utils import *\n",
    "from DeepPurpose.dataset import *"
   ]
  },
  {
   "cell_type": "code",
   "execution_count": 2,
   "id": "actual-kitty",
   "metadata": {},
   "outputs": [
    {
     "name": "stdout",
     "output_type": "stream",
     "text": [
      "Loading Dataset from path...\n"
     ]
    },
    {
     "name": "stderr",
     "output_type": "stream",
     "text": [
      "b'Skipping line 896772: expected 193 fields, saw 205\\nSkipping line 896798: expected 193 fields, saw 205\\n'\n",
      "b'Skipping line 929491: expected 193 fields, saw 205\\n'\n",
      "b'Skipping line 952161: expected 193 fields, saw 265\\n'\n",
      "b'Skipping line 1355895: expected 193 fields, saw 241\\n'\n",
      "b'Skipping line 1469800: expected 193 fields, saw 241\\nSkipping line 1469801: expected 193 fields, saw 241\\nSkipping line 1469802: expected 193 fields, saw 241\\nSkipping line 1469803: expected 193 fields, saw 241\\nSkipping line 1469804: expected 193 fields, saw 241\\nSkipping line 1469805: expected 193 fields, saw 241\\nSkipping line 1469806: expected 193 fields, saw 241\\nSkipping line 1469807: expected 193 fields, saw 241\\nSkipping line 1469808: expected 193 fields, saw 241\\n'\n",
      "b'Skipping line 1483073: expected 193 fields, saw 205\\n'\n",
      "b'Skipping line 1502296: expected 193 fields, saw 241\\nSkipping line 1502297: expected 193 fields, saw 241\\nSkipping line 1502298: expected 193 fields, saw 241\\nSkipping line 1502299: expected 193 fields, saw 241\\nSkipping line 1502300: expected 193 fields, saw 241\\nSkipping line 1502301: expected 193 fields, saw 241\\nSkipping line 1502302: expected 193 fields, saw 241\\nSkipping line 1502303: expected 193 fields, saw 241\\nSkipping line 1502304: expected 193 fields, saw 241\\n'\n",
      "b'Skipping line 1541474: expected 193 fields, saw 205\\n'\n",
      "b'Skipping line 1927945: expected 193 fields, saw 265\\n'\n",
      "b'Skipping line 2015166: expected 193 fields, saw 265\\nSkipping line 2015167: expected 193 fields, saw 265\\nSkipping line 2015168: expected 193 fields, saw 265\\nSkipping line 2015169: expected 193 fields, saw 265\\nSkipping line 2015170: expected 193 fields, saw 265\\nSkipping line 2015171: expected 193 fields, saw 265\\nSkipping line 2015172: expected 193 fields, saw 265\\nSkipping line 2015173: expected 193 fields, saw 265\\nSkipping line 2015174: expected 193 fields, saw 265\\nSkipping line 2015175: expected 193 fields, saw 265\\nSkipping line 2015176: expected 193 fields, saw 265\\nSkipping line 2015177: expected 193 fields, saw 265\\nSkipping line 2015178: expected 193 fields, saw 265\\nSkipping line 2015179: expected 193 fields, saw 265\\nSkipping line 2015180: expected 193 fields, saw 265\\nSkipping line 2015181: expected 193 fields, saw 265\\nSkipping line 2015182: expected 193 fields, saw 265\\nSkipping line 2015183: expected 193 fields, saw 265\\nSkipping line 2015184: expected 193 fields, saw 265\\n'\n",
      "b'Skipping line 2015802: expected 193 fields, saw 265\\nSkipping line 2015803: expected 193 fields, saw 265\\nSkipping line 2015804: expected 193 fields, saw 265\\nSkipping line 2015805: expected 193 fields, saw 265\\nSkipping line 2015806: expected 193 fields, saw 265\\nSkipping line 2015807: expected 193 fields, saw 265\\nSkipping line 2015808: expected 193 fields, saw 265\\n'\n",
      "b'Skipping line 2027219: expected 193 fields, saw 265\\nSkipping line 2027220: expected 193 fields, saw 265\\nSkipping line 2027221: expected 193 fields, saw 265\\nSkipping line 2027222: expected 193 fields, saw 265\\nSkipping line 2027223: expected 193 fields, saw 265\\nSkipping line 2027224: expected 193 fields, saw 265\\nSkipping line 2027225: expected 193 fields, saw 265\\nSkipping line 2027226: expected 193 fields, saw 265\\nSkipping line 2027227: expected 193 fields, saw 265\\nSkipping line 2027228: expected 193 fields, saw 265\\nSkipping line 2027229: expected 193 fields, saw 265\\nSkipping line 2027230: expected 193 fields, saw 265\\nSkipping line 2027231: expected 193 fields, saw 265\\nSkipping line 2027232: expected 193 fields, saw 265\\nSkipping line 2027233: expected 193 fields, saw 265\\nSkipping line 2027234: expected 193 fields, saw 265\\nSkipping line 2027235: expected 193 fields, saw 265\\nSkipping line 2027236: expected 193 fields, saw 265\\nSkipping line 2027237: expected 193 fields, saw 265\\nSkipping line 2027238: expected 193 fields, saw 265\\nSkipping line 2027239: expected 193 fields, saw 265\\nSkipping line 2027240: expected 193 fields, saw 265\\nSkipping line 2027241: expected 193 fields, saw 265\\nSkipping line 2027242: expected 193 fields, saw 265\\nSkipping line 2027243: expected 193 fields, saw 265\\nSkipping line 2027244: expected 193 fields, saw 265\\nSkipping line 2027245: expected 193 fields, saw 265\\nSkipping line 2027246: expected 193 fields, saw 265\\nSkipping line 2027247: expected 193 fields, saw 265\\nSkipping line 2027248: expected 193 fields, saw 265\\nSkipping line 2027249: expected 193 fields, saw 265\\nSkipping line 2027250: expected 193 fields, saw 265\\nSkipping line 2027251: expected 193 fields, saw 265\\nSkipping line 2027252: expected 193 fields, saw 265\\nSkipping line 2027253: expected 193 fields, saw 265\\nSkipping line 2027254: expected 193 fields, saw 265\\nSkipping line 2027255: expected 193 fields, saw 265\\nSkipping line 2027256: expected 193 fields, saw 265\\nSkipping line 2027257: expected 193 fields, saw 265\\n'\n",
      "b'Skipping line 2029854: expected 193 fields, saw 265\\nSkipping line 2029855: expected 193 fields, saw 265\\nSkipping line 2029856: expected 193 fields, saw 265\\nSkipping line 2029857: expected 193 fields, saw 265\\nSkipping line 2029858: expected 193 fields, saw 265\\nSkipping line 2029859: expected 193 fields, saw 265\\nSkipping line 2029860: expected 193 fields, saw 265\\nSkipping line 2029861: expected 193 fields, saw 265\\n'\n",
      "b'Skipping line 2042409: expected 193 fields, saw 313\\n'\n",
      "b'Skipping line 2059953: expected 193 fields, saw 637\\n'\n",
      "C:\\Users\\Curigin\\anaconda3\\envs\\DeepPurpose\\lib\\site-packages\\IPython\\core\\interactiveshell.py:2818: DtypeWarning: Columns (8,9,10,11,12,13,15,17,18,19,20,26,27,31,32,34,35,46,49,50,51,52,53,54,61,62,63,64,65,66,73,74,75,76,77,78,85,86,87,88,89,90,97,98,99,100,101,102,109,110,111,112,113,114,121,122,123,124,125,126,133,134,135,136,137,138,145,147,148,149,150,157,158,159,160,161,162,169,171,172,173,174) have mixed types.Specify dtype option on import or set low_memory=False.\n",
      "  if self.run_code(code, result):\n"
     ]
    },
    {
     "name": "stdout",
     "output_type": "stream",
     "text": [
      "Beginning Processing...\n",
      "There are 70750 drug target pairs.\n",
      "Default set to logspace (nM -> p) for easier regression\n",
      "Drug Target Interaction Prediction Mode...\n",
      "in total: 70750 drug-target pairs\n",
      "encoding drug...\n",
      "unique drugs: 13392\n",
      "encoding protein...\n",
      "unique target sequence: 1507\n",
      "splitting dataset...\n",
      "Done.\n"
     ]
    }
   ],
   "source": [
    "X_drug, X_target, y  = process_BindingDB('./data/BindingDB_All.tsv',\n",
    "                                         y = 'Kd', \n",
    "                                         binary = False, \n",
    "                                         convert_to_log = True)\n",
    "drug_encoding = 'Transformer'\n",
    "target_encoding = 'CNN'\n",
    "train, val, test = data_process(X_drug, X_target, y, \n",
    "                                drug_encoding, target_encoding, \n",
    "                                split_method='random',frac=[0.7,0.1,0.2])\n",
    "config = generate_config(drug_encoding = drug_encoding, \n",
    "                         target_encoding = target_encoding, \n",
    "                         cls_hidden_dims = [1024,1024,512], \n",
    "                         train_epoch = 20, \n",
    "                         LR = 0.001, \n",
    "                         batch_size = 128,\n",
    "                         cnn_target_filters = [32,64,96],\n",
    "                         cnn_target_kernels = [4,8,12]\n",
    "                        )"
   ]
  },
  {
   "cell_type": "code",
   "execution_count": 3,
   "id": "described-alcohol",
   "metadata": {},
   "outputs": [
    {
     "name": "stdout",
     "output_type": "stream",
     "text": [
      "Let's use 1 GPU!\n",
      "--- Data Preparation ---\n",
      "--- Go for Training ---\n",
      "Training at Epoch 1 iteration 0 with loss 36.6354. Total time 0.00055 hours\n",
      "Training at Epoch 1 iteration 100 with loss 2.64320. Total time 0.01611 hours\n",
      "Training at Epoch 1 iteration 200 with loss 1.26842. Total time 0.03138 hours\n",
      "Training at Epoch 1 iteration 300 with loss 1.63710. Total time 0.04694 hours\n",
      "Validation at Epoch 1 with loss:1.37575, MSE: 1.67306 , Pearson Correlation: 0.57904 with p-value: 0.0 , Concordance Index: 0.70990\n",
      "Training at Epoch 2 iteration 0 with loss 1.57223. Total time 0.06388 hours\n",
      "Training at Epoch 2 iteration 100 with loss 1.49711. Total time 0.07944 hours\n",
      "Training at Epoch 2 iteration 200 with loss 1.59072. Total time 0.09472 hours\n",
      "Training at Epoch 2 iteration 300 with loss 1.56264. Total time 0.11027 hours\n",
      "Validation at Epoch 2 with loss:0.73489, MSE: 1.41631 , Pearson Correlation: 0.60190 with p-value: 0.0 , Concordance Index: 0.72317\n",
      "Training at Epoch 3 iteration 0 with loss 1.56593. Total time 0.12722 hours\n",
      "Training at Epoch 3 iteration 100 with loss 1.12959. Total time 0.14277 hours\n",
      "Training at Epoch 3 iteration 200 with loss 1.44650. Total time 0.15833 hours\n",
      "Training at Epoch 3 iteration 300 with loss 1.42140. Total time 0.17388 hours\n",
      "Validation at Epoch 3 with loss:1.19009, MSE: 1.42259 , Pearson Correlation: 0.61230 with p-value: 0.0 , Concordance Index: 0.72340\n",
      "Training at Epoch 4 iteration 0 with loss 1.35951. Total time 0.19111 hours\n",
      "Training at Epoch 4 iteration 100 with loss 1.28875. Total time 0.20666 hours\n",
      "Training at Epoch 4 iteration 200 with loss 1.35433. Total time 0.22194 hours\n",
      "Training at Epoch 4 iteration 300 with loss 1.53326. Total time 0.23722 hours\n",
      "Validation at Epoch 4 with loss:1.01568, MSE: 1.34907 , Pearson Correlation: 0.62007 with p-value: 0.0 , Concordance Index: 0.72517\n",
      "Training at Epoch 5 iteration 0 with loss 1.44946. Total time 0.25444 hours\n",
      "Training at Epoch 5 iteration 100 with loss 1.55212. Total time 0.27 hours\n",
      "Training at Epoch 5 iteration 200 with loss 1.49960. Total time 0.28555 hours\n",
      "Training at Epoch 5 iteration 300 with loss 1.20719. Total time 0.30083 hours\n",
      "Validation at Epoch 5 with loss:1.05573, MSE: 1.33641 , Pearson Correlation: 0.61508 with p-value: 0.0 , Concordance Index: 0.72475\n",
      "Training at Epoch 6 iteration 0 with loss 1.49635. Total time 0.31777 hours\n",
      "Training at Epoch 6 iteration 100 with loss 1.33821. Total time 0.33305 hours\n",
      "Training at Epoch 6 iteration 200 with loss 1.81322. Total time 0.34833 hours\n",
      "Training at Epoch 6 iteration 300 with loss 1.46790. Total time 0.36361 hours\n",
      "Validation at Epoch 6 with loss:1.16541, MSE: 1.54523 , Pearson Correlation: 0.62097 with p-value: 0.0 , Concordance Index: 0.72843\n",
      "Training at Epoch 7 iteration 0 with loss 1.67957. Total time 0.38055 hours\n",
      "Training at Epoch 7 iteration 100 with loss 1.66483. Total time 0.39583 hours\n",
      "Training at Epoch 7 iteration 200 with loss 1.34189. Total time 0.41111 hours\n",
      "Training at Epoch 7 iteration 300 with loss 1.17940. Total time 0.42638 hours\n",
      "Validation at Epoch 7 with loss:0.93686, MSE: 1.41319 , Pearson Correlation: 0.62906 with p-value: 0.0 , Concordance Index: 0.73216\n",
      "Training at Epoch 8 iteration 0 with loss 1.28178. Total time 0.44333 hours\n",
      "Training at Epoch 8 iteration 100 with loss 1.16265. Total time 0.45861 hours\n",
      "Training at Epoch 8 iteration 200 with loss 1.15441. Total time 0.47416 hours\n",
      "Training at Epoch 8 iteration 300 with loss 1.34259. Total time 0.48944 hours\n",
      "Validation at Epoch 8 with loss:1.63436, MSE: 1.37951 , Pearson Correlation: 0.63518 with p-value: 0.0 , Concordance Index: 0.73213\n",
      "Training at Epoch 9 iteration 0 with loss 1.16092. Total time 0.50638 hours\n",
      "Training at Epoch 9 iteration 100 with loss 1.22158. Total time 0.52166 hours\n",
      "Training at Epoch 9 iteration 200 with loss 1.11008. Total time 0.53694 hours\n",
      "Training at Epoch 9 iteration 300 with loss 1.60320. Total time 0.5525 hours\n",
      "Validation at Epoch 9 with loss:3.26479, MSE: 1.80541 , Pearson Correlation: 0.62977 with p-value: 0.0 , Concordance Index: 0.73349\n",
      "Training at Epoch 10 iteration 0 with loss 1.37963. Total time 0.56944 hours\n",
      "Training at Epoch 10 iteration 100 with loss 1.52498. Total time 0.58472 hours\n",
      "Training at Epoch 10 iteration 200 with loss 1.19153. Total time 0.6 hours\n",
      "Training at Epoch 10 iteration 300 with loss 1.61453. Total time 0.61555 hours\n",
      "Validation at Epoch 10 with loss:1.26802, MSE: 1.35218 , Pearson Correlation: 0.61461 with p-value: 0.0 , Concordance Index: 0.72304\n",
      "Training at Epoch 11 iteration 0 with loss 1.38743. Total time 0.6325 hours\n",
      "Training at Epoch 11 iteration 100 with loss 1.16111. Total time 0.64777 hours\n",
      "Training at Epoch 11 iteration 200 with loss 1.32686. Total time 0.66333 hours\n",
      "Training at Epoch 11 iteration 300 with loss 1.17359. Total time 0.67888 hours\n",
      "Validation at Epoch 11 with loss:1.69550, MSE: 1.36294 , Pearson Correlation: 0.62992 with p-value: 0.0 , Concordance Index: 0.73262\n",
      "Training at Epoch 12 iteration 0 with loss 1.29195. Total time 0.69583 hours\n",
      "Training at Epoch 12 iteration 100 with loss 1.11416. Total time 0.71138 hours\n",
      "Training at Epoch 12 iteration 200 with loss 1.08675. Total time 0.72666 hours\n",
      "Training at Epoch 12 iteration 300 with loss 0.85859. Total time 0.74222 hours\n",
      "Validation at Epoch 12 with loss:1.19072, MSE: 1.32697 , Pearson Correlation: 0.62704 with p-value: 0.0 , Concordance Index: 0.73070\n",
      "Training at Epoch 13 iteration 0 with loss 1.07227. Total time 0.75916 hours\n",
      "Training at Epoch 13 iteration 100 with loss 1.26112. Total time 0.77444 hours\n",
      "Training at Epoch 13 iteration 200 with loss 1.31831. Total time 0.79 hours\n",
      "Training at Epoch 13 iteration 300 with loss 1.50593. Total time 0.80527 hours\n",
      "Validation at Epoch 13 with loss:1.47262, MSE: 1.37168 , Pearson Correlation: 0.63297 with p-value: 0.0 , Concordance Index: 0.72962\n",
      "Training at Epoch 14 iteration 0 with loss 1.41453. Total time 0.8225 hours\n",
      "Training at Epoch 14 iteration 100 with loss 1.21190. Total time 0.83805 hours\n",
      "Training at Epoch 14 iteration 200 with loss 1.62282. Total time 0.85333 hours\n",
      "Training at Epoch 14 iteration 300 with loss 0.94566. Total time 0.86888 hours\n",
      "Validation at Epoch 14 with loss:1.63851, MSE: 1.47150 , Pearson Correlation: 0.63035 with p-value: 0.0 , Concordance Index: 0.73083\n",
      "Training at Epoch 15 iteration 0 with loss 1.24916. Total time 0.88583 hours\n",
      "Training at Epoch 15 iteration 100 with loss 1.32552. Total time 0.90138 hours\n",
      "Training at Epoch 15 iteration 200 with loss 1.19763. Total time 0.91666 hours\n",
      "Training at Epoch 15 iteration 300 with loss 0.89486. Total time 0.93222 hours\n",
      "Validation at Epoch 15 with loss:1.40971, MSE: 1.54332 , Pearson Correlation: 0.62611 with p-value: 0.0 , Concordance Index: 0.72715\n",
      "Training at Epoch 16 iteration 0 with loss 1.40072. Total time 0.94916 hours\n",
      "Training at Epoch 16 iteration 100 with loss 1.74150. Total time 0.96444 hours\n",
      "Training at Epoch 16 iteration 200 with loss 1.32173. Total time 0.98 hours\n",
      "Training at Epoch 16 iteration 300 with loss 1.33565. Total time 0.99527 hours\n",
      "Validation at Epoch 16 with loss:1.22823, MSE: 1.42935 , Pearson Correlation: 0.62822 with p-value: 0.0 , Concordance Index: 0.72604\n",
      "Training at Epoch 17 iteration 0 with loss 1.18305. Total time 1.0125 hours\n",
      "Training at Epoch 17 iteration 100 with loss 1.25507. Total time 1.02777 hours\n",
      "Training at Epoch 17 iteration 200 with loss 1.21481. Total time 1.04333 hours\n",
      "Training at Epoch 17 iteration 300 with loss 0.96842. Total time 1.05861 hours\n",
      "Validation at Epoch 17 with loss:2.18768, MSE: 1.43612 , Pearson Correlation: 0.61930 with p-value: 0.0 , Concordance Index: 0.72500\n",
      "Training at Epoch 18 iteration 0 with loss 1.25646. Total time 1.07583 hours\n",
      "Training at Epoch 18 iteration 100 with loss 1.14126. Total time 1.09111 hours\n",
      "Training at Epoch 18 iteration 200 with loss 1.39208. Total time 1.10666 hours\n",
      "Training at Epoch 18 iteration 300 with loss 1.28383. Total time 1.12194 hours\n",
      "Validation at Epoch 18 with loss:0.75969, MSE: 1.29795 , Pearson Correlation: 0.63325 with p-value: 0.0 , Concordance Index: 0.73216\n",
      "Training at Epoch 19 iteration 0 with loss 1.00108. Total time 1.13888 hours\n",
      "Training at Epoch 19 iteration 100 with loss 1.36125. Total time 1.15444 hours\n"
     ]
    },
    {
     "name": "stdout",
     "output_type": "stream",
     "text": [
      "Training at Epoch 19 iteration 200 with loss 1.02079. Total time 1.16972 hours\n",
      "Training at Epoch 19 iteration 300 with loss 1.16734. Total time 1.18527 hours\n",
      "Validation at Epoch 19 with loss:0.96852, MSE: 1.47656 , Pearson Correlation: 0.62646 with p-value: 0.0 , Concordance Index: 0.72288\n",
      "Training at Epoch 20 iteration 0 with loss 1.27210. Total time 1.20222 hours\n",
      "Training at Epoch 20 iteration 100 with loss 1.11423. Total time 1.2175 hours\n",
      "Training at Epoch 20 iteration 200 with loss 1.27129. Total time 1.23305 hours\n",
      "Training at Epoch 20 iteration 300 with loss 0.83837. Total time 1.24833 hours\n",
      "Validation at Epoch 20 with loss:1.59014, MSE: 1.57291 , Pearson Correlation: 0.59812 with p-value: 0.0 , Concordance Index: 0.72277\n",
      "--- Go for Testing ---\n",
      "Testing MSE: 1.269539629563928 , Pearson Correlation: 0.6376112587483578 with p-value: 0.0 , Concordance Index: 0.7335739471846823\n",
      "--- Training Finished ---\n"
     ]
    },
    {
     "data": {
      "image/png": "[encoded data removed]",
      "text/plain": [
       "<Figure size 432x288 with 1 Axes>"
      ]
     },
     "metadata": {
      "needs_background": "light"
     },
     "output_type": "display_data"
    }
   ],
   "source": [
    "model = models.model_initialize(**config)\n",
    "model.train(train, val, test, verbose = True)"
   ]
  },
  {
   "cell_type": "code",
   "execution_count": 4,
   "id": "inner-tennis",
   "metadata": {},
   "outputs": [],
   "source": [
    "model.save_model('./tutorial_model')"
   ]
  },
  {
   "cell_type": "code",
   "execution_count": 5,
   "id": "narrative-lyric",
   "metadata": {},
   "outputs": [],
   "source": [
    "t = 'MAAEDVIICAQQCSGRCRGKSPSDCCHNQCAAGCTGPRESDCLVCRKFRDEATCKDTCPPLMLYNPTTYQMDVNPEGKYSFGATCVKKCPRNYVVTDHGSCVRACGADSYEMEEDGVRKCKKCEGPCRKVCNGIGIGEFKDSLSINATNIKHFKNCTSISGDLHILPVAFRGDSFTHTPPLDPQELDILKTVKEITGFLLIQAWPENRTDLHAFENLEIIRGRTKQHGQFSLAVVSLNITSLGLRSLKEISDGDVIISGNKNLCYANTINWKKLFGTSGQKTKIISNRGENSCKATGQVCHALCSPEGCWGPEPRDCVSCRNVSRGRECVDKCNLLEGEPREFVENSECIQCHPECLPQAMNITCTGRGPDNCIQCAHYIDGPHCVKTCPAGVMGENNTLVWKYADAGHVCHLCHPNCTYGCTGPGLEGCPTNGPKIPSIATGMVGALLLLLVVALGIGPLHGR'\n",
    "t_name = 'EGFR'"
   ]
  },
  {
   "cell_type": "code",
   "execution_count": 8,
   "id": "legislative-punishment",
   "metadata": {},
   "outputs": [],
   "source": [
    "from DeepPurpose import dataset"
   ]
  },
  {
   "cell_type": "code",
   "execution_count": 10,
   "id": "cathedral-occupation",
   "metadata": {},
   "outputs": [],
   "source": [
    "r, r_name = dataset.load_repurposing_new()"
   ]
  },
  {
   "cell_type": "code",
   "execution_count": 11,
   "id": "harmful-classics",
   "metadata": {},
   "outputs": [],
   "source": [
    "model = models.model_pretrained(path_dir = './tutorial_model')"
   ]
  },
  {
   "cell_type": "code",
   "execution_count": 12,
   "id": "abstract-paint",
   "metadata": {
    "scrolled": true
   },
   "outputs": [
    {
     "name": "stdout",
     "output_type": "stream",
     "text": [
      "repurposing...\n",
      "Drug Target Interaction Prediction Mode...\n",
      "in total: 6808 drug-target pairs\n",
      "encoding drug...\n",
      "unique drugs: 6806\n",
      "encoding protein...\n",
      "unique target sequence: 1\n",
      "Done.\n",
      "predicting...\n",
      "---------------\n",
      "Drug Repurposing Result for EGFR\n",
      "+------+---------------------------------------------------------------------------------------------------------------------------------------------------------------------------------------------------------------------------------------+-------------+---------------+\n",
      "| Rank |                                                                                                               Drug Name                                                                                                               | Target Name | Binding Score |\n",
      "+------+---------------------------------------------------------------------------------------------------------------------------------------------------------------------------------------------------------------------------------------+-------------+---------------+\n",
      "|  1   |                                                                                                          (R)-(-)-apomorphine                                                                                                          |     EGFR    |    1203.68    |\n",
      "|  2   |                                                                                                            (R)-(-)-rolipram                                                                                                           |     EGFR    |    1203.68    |\n",
      "|  3   |                                                                                                              (R)-baclofen                                                                                                             |     EGFR    |    1203.68    |\n",
      "|  4   |                                                                                                            (S)-(+)-rolipram                                                                                                           |     EGFR    |    1203.68    |\n",
      "|  5   |                                                                                                      [sar9,met(o2)11]-substance-p                                                                                                     |     EGFR    |    1203.68    |\n",
      "|  6   |                                                                                                               A-1070722                                                                                                               |     EGFR    |    1203.68    |\n",
      "|  7   |                                                                                                                 A-1120                                                                                                                |     EGFR    |    1203.68    |\n",
      "|  8   |                                                                                                                A-317491                                                                                                               |     EGFR    |    1203.68    |\n",
      "|  9   |                                                                                                                A-33903                                                                                                                |     EGFR    |    1203.68    |\n",
      "|  10  |                                                                                                                 A-366                                                                                                                 |     EGFR    |    1203.68    |\n",
      "checkout ./result/repurposing.txt for the whole list\n"
     ]
    }
   ],
   "source": [
    "y_pred = models.repurpose(X_repurpose = r, target = t, model = model, drug_names = r_name, target_name = t_name, \n",
    "                          result_folder = \"./result/\", convert_y = True)"
   ]
  },
  {
   "cell_type": "code",
   "execution_count": null,
   "id": "proud-affect",
   "metadata": {},
   "outputs": [],
   "source": []
  }
 ],
 "metadata": {
  "kernelspec": {
   "display_name": "Python 3",
   "language": "python",
   "name": "python3"
  },
  "language_info": {
   "codemirror_mode": {
    "name": "ipython",
    "version": 3
   },
   "file_extension": ".py",
   "mimetype": "text/x-python",
   "name": "python",
   "nbconvert_exporter": "python",
   "pygments_lexer": "ipython3",
   "version": "3.6.12"
  }
 },
 "nbformat": 4,
 "nbformat_minor": 5
}
