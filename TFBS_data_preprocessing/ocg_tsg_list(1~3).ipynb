{
 "cells": [
  {
   "cell_type": "markdown",
   "metadata": {},
   "source": [
    "#### __인공 프로모터 후보 active, repress 목록 비교__"
   ]
  },
  {
   "cell_type": "code",
   "execution_count": 65,
   "metadata": {},
   "outputs": [],
   "source": [
    "p1_ocg = ['ELK1', 'E2F1', 'E2F3', 'OTX2', 'TCF3', 'RARA', 'ETV1', 'ETV4', 'ELK3', 'ERG', 'CUX1', 'RUNX3', 'TFCP2', 'SOX2', 'MEIS1', 'TBX2', 'PAX4', 'PAX2', 'TBX3', 'AR']"
   ]
  },
  {
   "cell_type": "code",
   "execution_count": 6,
   "metadata": {},
   "outputs": [],
   "source": [
    "p1_tsg = ['MAX', 'ERF', 'VDR', 'NR1I2', 'SOX15', 'THRB', 'ARNTL', 'CUX1', 'HNF4A', 'CEBPD', 'PAX5', 'E2F2', 'RUNX3', 'RUNX2', 'ESRRB', 'RARB', 'PAX6', 'SOX7', 'TBX5', 'HOXB13', 'PAX4', 'ESR1', 'PGR']"
   ]
  },
  {
   "cell_type": "code",
   "execution_count": 8,
   "metadata": {},
   "outputs": [],
   "source": [
    "p2_ocg = ['ELK1', 'E2F1', 'E2F3', 'CUX1', 'ERG', 'FLI1', 'SOX2', 'TBX2', 'AR', 'ELK3', 'NFIB', 'MEIS1', 'FOXO1', 'TBX3', 'TCF3', 'RUNX3', 'PAX4', 'PAX2']"
   ]
  },
  {
   "cell_type": "code",
   "execution_count": 9,
   "metadata": {},
   "outputs": [],
   "source": [
    "p2_tsg = ['ERF', 'CUX1', 'SOX15', 'MAX', 'THRB', 'CEBPD', 'PAX6', 'NFATC1', 'HOXB13', 'TBX5', 'VDR', 'NR1I2', 'PAX5', 'PGR', 'E2F2', 'ESRRB', 'BCL6B', 'HNF4A', 'FOXO1', 'RUNX3', 'RUNX2', 'PAX4']"
   ]
  },
  {
   "cell_type": "code",
   "execution_count": 51,
   "metadata": {},
   "outputs": [],
   "source": [
    "p3_ocg = ['E2F1', 'E2F3', 'ELK1', 'ELK3', 'CUX1', 'TBX3', 'SOX2', 'FLI1', 'ETV1', 'ETV4', 'ERG', 'ETS1', 'TCF3', 'NFIB', 'AR', 'RUNX3', 'FOXO1', 'RARA', 'PAX4', 'PAX2']"
   ]
  },
  {
   "cell_type": "code",
   "execution_count": 53,
   "metadata": {},
   "outputs": [],
   "source": [
    "p3_tsg = ['CTCF', 'ERF', 'MAX', 'SOX15', 'CUX1', 'HOXB13', 'CEBPD', 'THRB', 'HNF4A', 'PGR', 'IRF3', 'RUNX3', 'RUNX2', 'FOXO1', 'NFATC1', 'ARNTL', 'PAX5', 'PDX1', 'LHX6', 'PAX4']"
   ]
  },
  {
   "cell_type": "code",
   "execution_count": 66,
   "metadata": {},
   "outputs": [
    {
     "name": "stdout",
     "output_type": "stream",
     "text": [
      "20\n",
      "23\n",
      "18\n",
      "22\n",
      "20\n",
      "20\n"
     ]
    }
   ],
   "source": [
    "print(len(p1_ocg))\n",
    "print(len(p1_tsg))\n",
    "print(len(p2_ocg))\n",
    "print(len(p2_tsg))\n",
    "print(len(p3_ocg))\n",
    "print(len(p3_tsg))"
   ]
  },
  {
   "cell_type": "code",
   "execution_count": 58,
   "metadata": {},
   "outputs": [
    {
     "data": {
      "text/plain": [
       "{'OTX2'}"
      ]
     },
     "execution_count": 58,
     "metadata": {},
     "output_type": "execute_result"
    }
   ],
   "source": [
    "set(p1_ocg) - set(p2_ocg) - set(p3_ocg)"
   ]
  },
  {
   "cell_type": "code",
   "execution_count": 59,
   "metadata": {},
   "outputs": [
    {
     "data": {
      "text/plain": [
       "{'MEIS1'}"
      ]
     },
     "execution_count": 59,
     "metadata": {},
     "output_type": "execute_result"
    }
   ],
   "source": [
    "set(p2_ocg) - set(p1_ocg) - set(p3_ocg)"
   ]
  },
  {
   "cell_type": "code",
   "execution_count": 60,
   "metadata": {},
   "outputs": [
    {
     "data": {
      "text/plain": [
       "{'ETS1', 'ETV4'}"
      ]
     },
     "execution_count": 60,
     "metadata": {},
     "output_type": "execute_result"
    }
   ],
   "source": [
    "set(p3_ocg) - set(p1_ocg) - set(p2_ocg)"
   ]
  },
  {
   "cell_type": "code",
   "execution_count": 61,
   "metadata": {},
   "outputs": [
    {
     "data": {
      "text/plain": [
       "{'ESR1', 'RARB', 'SOX7'}"
      ]
     },
     "execution_count": 61,
     "metadata": {},
     "output_type": "execute_result"
    }
   ],
   "source": [
    "set(p1_tsg) - set(p2_tsg) - set(p3_tsg)"
   ]
  },
  {
   "cell_type": "code",
   "execution_count": 62,
   "metadata": {},
   "outputs": [
    {
     "data": {
      "text/plain": [
       "{'BCL6B'}"
      ]
     },
     "execution_count": 62,
     "metadata": {},
     "output_type": "execute_result"
    }
   ],
   "source": [
    "set(p2_tsg) - set(p1_tsg) - set(p3_tsg)"
   ]
  },
  {
   "cell_type": "code",
   "execution_count": 64,
   "metadata": {},
   "outputs": [
    {
     "data": {
      "text/plain": [
       "{'CTCF', 'IRF3', 'LHX6', 'PDX1'}"
      ]
     },
     "execution_count": 64,
     "metadata": {},
     "output_type": "execute_result"
    }
   ],
   "source": [
    "set(p3_tsg) - set(p2_tsg) - set(p1_tsg)"
   ]
  },
  {
   "cell_type": "code",
   "execution_count": null,
   "metadata": {},
   "outputs": [],
   "source": []
  }
 ],
 "metadata": {
  "kernelspec": {
   "display_name": "Python 3",
   "language": "python",
   "name": "python3"
  },
  "language_info": {
   "codemirror_mode": {
    "name": "ipython",
    "version": 3
   },
   "file_extension": ".py",
   "mimetype": "text/x-python",
   "name": "python",
   "nbconvert_exporter": "python",
   "pygments_lexer": "ipython3",
   "version": "3.8.5"
  }
 },
 "nbformat": 4,
 "nbformat_minor": 4
}
