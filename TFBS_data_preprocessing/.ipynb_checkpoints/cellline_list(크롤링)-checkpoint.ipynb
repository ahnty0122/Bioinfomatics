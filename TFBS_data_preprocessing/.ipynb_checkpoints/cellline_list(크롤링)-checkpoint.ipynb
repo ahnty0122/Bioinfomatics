{
 "cells": [
  {
   "cell_type": "code",
   "execution_count": 1,
   "metadata": {},
   "outputs": [],
   "source": [
    "import pandas as pd\n",
    "import numpy as np"
   ]
  },
  {
   "cell_type": "code",
   "execution_count": null,
   "metadata": {},
   "outputs": [],
   "source": [
    "f = pd.read_csv('evidence_all.txt', delimiter = '\\t')"
   ]
  },
  {
   "cell_type": "code",
   "execution_count": 3,
   "metadata": {},
   "outputs": [],
   "source": [
    "cell_line = f['epigenomes_with_experimental_evidence'].values"
   ]
  },
  {
   "cell_type": "code",
   "execution_count": 4,
   "metadata": {},
   "outputs": [
    {
     "data": {
      "text/plain": [
       "array(['SK-N.', 'SK-N.', '2CMCF-7', ..., 'IMR-90', 'IMR-90', 'IMR-90'],\n",
       "      dtype=object)"
      ]
     },
     "execution_count": 4,
     "metadata": {},
     "output_type": "execute_result"
    }
   ],
   "source": [
    "cell_line"
   ]
  },
  {
   "cell_type": "code",
   "execution_count": 5,
   "metadata": {},
   "outputs": [
    {
     "data": {
      "text/plain": [
       "GM12878                  10500516\n",
       "K562                      6646611\n",
       "HepG2                     5803996\n",
       "HeLa-S3                   5288504\n",
       "2CHCT116                  4658759\n",
       "                           ...   \n",
       "CD14+ monocyte_1              265\n",
       "osteoblast                    160\n",
       "astrocyte                     126\n",
       "astrocyte spinal cord         121\n",
       "astrocyte cerebellum           63\n",
       "Name: epigenomes_with_experimental_evidence, Length: 74, dtype: int64"
      ]
     },
     "execution_count": 5,
     "metadata": {},
     "output_type": "execute_result"
    }
   ],
   "source": [
    "f['epigenomes_with_experimental_evidence'].value_counts()"
   ]
  },
  {
   "cell_type": "code",
   "execution_count": 6,
   "metadata": {},
   "outputs": [],
   "source": [
    "cell_line = f['epigenomes_with_experimental_evidence'].unique()"
   ]
  },
  {
   "cell_type": "code",
   "execution_count": 7,
   "metadata": {},
   "outputs": [
    {
     "data": {
      "text/plain": [
       "array(['SK-N.', '2CMCF-7', '2CH1-hESC_3', '2CHCT116', 'GM12878', 'A549',\n",
       "       '2CSK-N.', 'K562', '2CGM12878', '2CHepG2', '2CIMR-90', 'MCF-7',\n",
       "       '2CK562', 'HeLa-S3', '2CA549', 'HepG2', 'HCT116', '2CHUVEC',\n",
       "       'H1-hESC_3', '2Cbipolar neuron', '2Ccardiac muscle',\n",
       "       '2Cneutrophil (PB)', '2Castrocyte cerebellum', 'GM12892',\n",
       "       '2CGM12891', '2CSK-N-SH_RA', 'GM12891', 'Hu. Fe.', '2CHeLa-S3',\n",
       "       '2Cpancreas_2', '2CNHLF', '2Ckeratinocyte', '2CB', '2CMM.1S',\n",
       "       '2CPC-9', '2CCD14+ monocyte_1', '2Costeoblast', '2CHSMM', '2CPC-3',\n",
       "       '2CA673', '2Cmammary epithelial_1', '2Cmyotube', '2Castrocyte',\n",
       "       '2Cdermal fibroblast', '2Ctransverse colon', '2CDND-41',\n",
       "       '2Castrocyte spinal cord', '2Cforeskin fibroblast_1', 'IMR-90',\n",
       "       'transverse colon', 'DND-41', 'pancreas_2', 'SK-N-SH_RA', 'B',\n",
       "       'MM.1S', 'keratinocyte', 'foreskin fibroblast_1', 'PC-3', 'PC-9',\n",
       "       'HUVEC', 'bipolar neuron', 'A673', 'neutrophil (PB)', 'astrocyte',\n",
       "       'NHLF', 'dermal fibroblast', 'cardiac muscle', 'CD14+ monocyte_1',\n",
       "       'astrocyte spinal cord', 'mammary epithelial_1', 'HSMM', 'myotube',\n",
       "       'astrocyte cerebellum', 'osteoblast'], dtype=object)"
      ]
     },
     "execution_count": 7,
     "metadata": {},
     "output_type": "execute_result"
    }
   ],
   "source": [
    "cell_line"
   ]
  },
  {
   "cell_type": "code",
   "execution_count": null,
   "metadata": {},
   "outputs": [],
   "source": [
    "cell_line = pd.DataFrame(cell_line)"
   ]
  },
  {
   "cell_type": "code",
   "execution_count": 8,
   "metadata": {},
   "outputs": [],
   "source": [
    "import requests\n",
    "from bs4 import BeautifulSoup"
   ]
  },
  {
   "cell_type": "code",
   "execution_count": 9,
   "metadata": {},
   "outputs": [],
   "source": [
    "res = requests.get('http://ftp.ensembl.org/pub/current_regulation/homo_sapiens/RegulatoryFeatureActivity/')"
   ]
  },
  {
   "cell_type": "code",
   "execution_count": 10,
   "metadata": {},
   "outputs": [
    {
     "name": "stdout",
     "output_type": "stream",
     "text": [
      "b'<html>\\r\\n<head><title>Index of /pub/current_regulation/homo_sapiens/RegulatoryFeatureActivity/</title></head>\\r\\n<body>\\r\\n<h1>Index of /pub/current_regulation/homo_sapiens/RegulatoryFeatureActivity/</h1><hr><pre><a href=\"../\">../</a>\\r\\n<a href=\"A549/\">A549/</a>                                              10-Sep-2020 09:01                   -\\r\\n<a href=\"A673/\">A673/</a>                                              10-Sep-2020 09:01                   -\\r\\n<a href=\"B/\">B/</a>                                                 10-Sep-2020 09:01                   -\\r\\n<a href=\"B_PB/\">B_PB/</a>                                              10-Sep-2020 09:01                   -\\r\\n<a href=\"CD14_monocyte_1/\">CD14_monocyte_1/</a>                                   10-Sep-2020 09:01                   -\\r\\n<a href=\"CD14_monocyte_PB/\">CD14_monocyte_PB/</a>                                  10-Sep-2020 09:01                   -\\r\\n<a href=\"CD4_CD25_ab_Treg_PB/\">CD4_CD25_ab_Treg_PB/</a>                               10-Sep-2020 09:01                   -\\r\\n<a href=\"CD4_ab_T/\">CD4_ab_T/</a>                                          10-Sep-2020 09:01                   -\\r\\n<a href=\"CD4_ab_T_PB_1/\">CD4_ab_T_PB_1/</a>                                     10-Sep-2020 09:01                   -\\r\\n<a href=\"CD4_ab_T_PB_2/\">CD4_ab_T_PB_2/</a>                                     10-Sep-2020 09:01                   -\\r\\n<a href=\"CD4_ab_T_Th/\">CD4_ab_T_Th/</a>                                       10-Sep-2020 09:01                   -\\r\\n<a href=\"CD4_ab_T_VB/\">CD4_ab_T_VB/</a>                                       10-Sep-2020 09:01                   -\\r\\n<a href=\"CD8_ab_T_CB/\">CD8_ab_T_CB/</a>                                       10-Sep-2020 09:01                   -\\r\\n<a href=\"CD8_ab_T_PB/\">CD8_ab_T_PB/</a>                                       10-Sep-2020 09:01                   -\\r\\n<a href=\"CMP_CD4_1/\">CMP_CD4_1/</a>                                         10-Sep-2020 09:01                   -\\r\\n<a href=\"CMP_CD4_2/\">CMP_CD4_2/</a>                                         10-Sep-2020 09:01                   -\\r\\n<a href=\"CMP_CD4_3/\">CMP_CD4_3/</a>                                         10-Sep-2020 09:01                   -\\r\\n<a href=\"CM_CD4_ab_T_VB/\">CM_CD4_ab_T_VB/</a>                                    10-Sep-2020 09:01                   -\\r\\n<a href=\"DND_41/\">DND_41/</a>                                            10-Sep-2020 09:01                   -\\r\\n<a href=\"EB_CB/\">EB_CB/</a>                                             10-Sep-2020 09:01                   -\\r\\n<a href=\"EM_CD4_ab_T_PB/\">EM_CD4_ab_T_PB/</a>                                    10-Sep-2020 09:01                   -\\r\\n<a href=\"EM_CD8_ab_T_VB/\">EM_CD8_ab_T_VB/</a>                                    10-Sep-2020 09:01                   -\\r\\n<a href=\"EPC_VB/\">EPC_VB/</a>                                            10-Sep-2020 09:01                   -\\r\\n<a href=\"GM12878/\">GM12878/</a>                                           10-Sep-2020 09:01                   -\\r\\n<a href=\"H1_hESC_2/\">H1_hESC_2/</a>                                         10-Sep-2020 09:01                   -\\r\\n<a href=\"H1_hESC_3/\">H1_hESC_3/</a>                                         10-Sep-2020 09:01                   -\\r\\n<a href=\"H9_1/\">H9_1/</a>                                              10-Sep-2020 09:01                   -\\r\\n<a href=\"HCT116/\">HCT116/</a>                                            10-Sep-2020 09:02                   -\\r\\n<a href=\"HSMM/\">HSMM/</a>                                              10-Sep-2020 09:02                   -\\r\\n<a href=\"HUES48/\">HUES48/</a>                                            10-Sep-2020 09:02                   -\\r\\n<a href=\"HUES6/\">HUES6/</a>                                             10-Sep-2020 09:02                   -\\r\\n<a href=\"HUES64/\">HUES64/</a>                                            10-Sep-2020 09:02                   -\\r\\n<a href=\"HUVEC/\">HUVEC/</a>                                             10-Sep-2020 09:02                   -\\r\\n<a href=\"HUVEC_prol_CB/\">HUVEC_prol_CB/</a>                                     10-Sep-2020 09:02                   -\\r\\n<a href=\"HeLa_S3/\">HeLa_S3/</a>                                           10-Sep-2020 09:02                   -\\r\\n<a href=\"HepG2/\">HepG2/</a>                                             10-Sep-2020 09:02                   -\\r\\n<a href=\"K562/\">K562/</a>                                              10-Sep-2020 09:02                   -\\r\\n<a href=\"M0_CB/\">M0_CB/</a>                                             10-Sep-2020 09:02                   -\\r\\n<a href=\"M0_VB/\">M0_VB/</a>                                             10-Sep-2020 09:02                   -\\r\\n<a href=\"M1_CB/\">M1_CB/</a>                                             10-Sep-2020 09:02                   -\\r\\n<a href=\"M1_VB/\">M1_VB/</a>                                             10-Sep-2020 09:02                   -\\r\\n<a href=\"M2_CB/\">M2_CB/</a>                                             10-Sep-2020 09:02                   -\\r\\n<a href=\"M2_VB/\">M2_VB/</a>                                             10-Sep-2020 09:02                   -\\r\\n<a href=\"MCF_7/\">MCF_7/</a>                                             10-Sep-2020 09:02                   -\\r\\n<a href=\"MM_1S/\">MM_1S/</a>                                             10-Sep-2020 09:02                   -\\r\\n<a href=\"MSC/\">MSC/</a>                                               10-Sep-2020 09:02                   -\\r\\n<a href=\"MSC_VB/\">MSC_VB/</a>                                            10-Sep-2020 09:02                   -\\r\\n<a href=\"NHLF/\">NHLF/</a>                                              10-Sep-2020 09:02                   -\\r\\n<a href=\"NK_PB/\">NK_PB/</a>                                             10-Sep-2020 09:02                   -\\r\\n<a href=\"NPC_1/\">NPC_1/</a>                                             10-Sep-2020 09:02                   -\\r\\n<a href=\"NPC_2/\">NPC_2/</a>                                             10-Sep-2020 09:02                   -\\r\\n<a href=\"NPC_3/\">NPC_3/</a>                                             10-Sep-2020 09:02                   -\\r\\n<a href=\"PC_3/\">PC_3/</a>                                              10-Sep-2020 09:02                   -\\r\\n<a href=\"PC_9/\">PC_9/</a>                                              10-Sep-2020 09:02                   -\\r\\n<a href=\"SK_N_/\">SK_N_/</a>                                             10-Sep-2020 09:02                   -\\r\\n<a href=\"T_PB/\">T_PB/</a>                                              10-Sep-2020 09:02                   -\\r\\n<a href=\"Th17/\">Th17/</a>                                              10-Sep-2020 09:02                   -\\r\\n<a href=\"UCSF_4/\">UCSF_4/</a>                                            10-Sep-2020 09:02                   -\\r\\n<a href=\"adrenal_gland/\">adrenal_gland/</a>                                     10-Sep-2020 09:02                   -\\r\\n<a href=\"aorta/\">aorta/</a>                                             10-Sep-2020 09:02                   -\\r\\n<a href=\"astrocyte/\">astrocyte/</a>                                         10-Sep-2020 09:02                   -\\r\\n<a href=\"bipolar_neuron/\">bipolar_neuron/</a>                                    10-Sep-2020 09:02                   -\\r\\n<a href=\"brain_1/\">brain_1/</a>                                           10-Sep-2020 09:02                   -\\r\\n<a href=\"cardiac_muscle/\">cardiac_muscle/</a>                                    10-Sep-2020 09:02                   -\\r\\n<a href=\"dermal_fibroblast/\">dermal_fibroblast/</a>                                 10-Sep-2020 09:02                   -\\r\\n<a href=\"endodermal/\">endodermal/</a>                                        10-Sep-2020 09:02                   -\\r\\n<a href=\"eosinophil_VB/\">eosinophil_VB/</a>                                     10-Sep-2020 09:02                   -\\r\\n<a href=\"esophagus/\">esophagus/</a>                                         10-Sep-2020 09:02                   -\\r\\n<a href=\"foreskin_fibroblast_2/\">foreskin_fibroblast_2/</a>                             10-Sep-2020 09:02                   -\\r\\n<a href=\"foreskin_keratinocyte_1/\">foreskin_keratinocyte_1/</a>                           10-Sep-2020 09:02                   -\\r\\n<a href=\"foreskin_keratinocyte_2/\">foreskin_keratinocyte_2/</a>                           10-Sep-2020 09:02                   -\\r\\n<a href=\"foreskin_melanocyte_1/\">foreskin_melanocyte_1/</a>                             10-Sep-2020 09:02                   -\\r\\n<a href=\"foreskin_melanocyte_2/\">foreskin_melanocyte_2/</a>                             10-Sep-2020 09:02                   -\\r\\n<a href=\"germinal_matrix/\">germinal_matrix/</a>                                   10-Sep-2020 09:02                   -\\r\\n<a href=\"heart/\">heart/</a>                                             10-Sep-2020 09:02                   -\\r\\n<a href=\"hepatocyte/\">hepatocyte/</a>                                        10-Sep-2020 09:02                   -\\r\\n<a href=\"iPS_15b/\">iPS_15b/</a>                                           10-Sep-2020 09:02                   -\\r\\n<a href=\"iPS_20b/\">iPS_20b/</a>                                           10-Sep-2020 09:02                   -\\r\\n<a href=\"iPS_DF_19_11/\">iPS_DF_19_11/</a>                                      10-Sep-2020 09:02                   -\\r\\n<a href=\"iPS_DF_6_9/\">iPS_DF_6_9/</a>                                        10-Sep-2020 09:02                   -\\r\\n<a href=\"keratinocyte/\">keratinocyte/</a>                                      10-Sep-2020 09:02                   -\\r\\n<a href=\"kidney/\">kidney/</a>                                            10-Sep-2020 09:02                   -\\r\\n<a href=\"large_intestine/\">large_intestine/</a>                                   10-Sep-2020 09:02                   -\\r\\n<a href=\"left_ventricle/\">left_ventricle/</a>                                    10-Sep-2020 09:02                   -\\r\\n<a href=\"leg_muscle/\">leg_muscle/</a>                                        10-Sep-2020 09:02                   -\\r\\n<a href=\"lung_1/\">lung_1/</a>                                            10-Sep-2020 09:02                   -\\r\\n<a href=\"lung_2/\">lung_2/</a>                                            10-Sep-2020 09:02                   -\\r\\n<a href=\"mammary_epithelial_1/\">mammary_epithelial_1/</a>                              10-Sep-2020 09:02                   -\\r\\n<a href=\"mammary_epithelial_2/\">mammary_epithelial_2/</a>                              10-Sep-2020 09:02                   -\\r\\n<a href=\"mammary_myoepithelial/\">mammary_myoepithelial/</a>                             10-Sep-2020 09:02                   -\\r\\n<a href=\"monocyte_CB/\">monocyte_CB/</a>                                       10-Sep-2020 09:02                   -\\r\\n<a href=\"monocyte_VB/\">monocyte_VB/</a>                                       10-Sep-2020 09:02                   -\\r\\n<a href=\"mononuclear_PB/\">mononuclear_PB/</a>                                    10-Sep-2020 09:02                   -\\r\\n<a href=\"myotube/\">myotube/</a>                                           10-Sep-2020 09:02                   -\\r\\n<a href=\"naive_B_VB/\">naive_B_VB/</a>                                        10-Sep-2020 09:02                   -\\r\\n<a href=\"neuron/\">neuron/</a>                                            10-Sep-2020 09:02                   -\\r\\n<a href=\"neurosphere_C/\">neurosphere_C/</a>                                     10-Sep-2020 09:02                   -\\r\\n<a href=\"neurosphere_GE/\">neurosphere_GE/</a>                                    10-Sep-2020 09:02                   -\\r\\n<a href=\"neutro_myelocyte/\">neutro_myelocyte/</a>                                  10-Sep-2020 09:02                   -\\r\\n<a href=\"neutrophil_CB/\">neutrophil_CB/</a>                                     10-Sep-2020 09:02                   -\\r\\n<a href=\"neutrophil_VB/\">neutrophil_VB/</a>                                     10-Sep-2020 09:02                   -\\r\\n<a href=\"osteoblast/\">osteoblast/</a>                                        10-Sep-2020 09:02                   -\\r\\n<a href=\"ovary/\">ovary/</a>                                             10-Sep-2020 09:02                   -\\r\\n<a href=\"pancreas/\">pancreas/</a>                                          10-Sep-2020 09:02                   -\\r\\n<a href=\"placenta/\">placenta/</a>                                          10-Sep-2020 09:02                   -\\r\\n<a href=\"psoas_muscle/\">psoas_muscle/</a>                                      10-Sep-2020 09:02                   -\\r\\n<a href=\"right_atrium/\">right_atrium/</a>                                      10-Sep-2020 09:02                   -\\r\\n<a href=\"right_ventricle/\">right_ventricle/</a>                                   10-Sep-2020 09:02                   -\\r\\n<a href=\"sigmoid_colon/\">sigmoid_colon/</a>                                     10-Sep-2020 09:02                   -\\r\\n<a href=\"small_intestine_1/\">small_intestine_1/</a>                                 10-Sep-2020 09:02                   -\\r\\n<a href=\"small_intestine_2/\">small_intestine_2/</a>                                 10-Sep-2020 09:02                   -\\r\\n<a href=\"spleen/\">spleen/</a>                                            10-Sep-2020 09:02                   -\\r\\n<a href=\"stomach_1/\">stomach_1/</a>                                         10-Sep-2020 09:02                   -\\r\\n<a href=\"stomach_2/\">stomach_2/</a>                                         10-Sep-2020 09:02                   -\\r\\n<a href=\"thymus_1/\">thymus_1/</a>                                          10-Sep-2020 09:02                   -\\r\\n<a href=\"thymus_2/\">thymus_2/</a>                                          10-Sep-2020 09:02                   -\\r\\n<a href=\"trophoblast/\">trophoblast/</a>                                       10-Sep-2020 09:02                   -\\r\\n<a href=\"trunk_muscle/\">trunk_muscle/</a>                                      10-Sep-2020 09:02                   -\\r\\n</pre><hr></body>\\r\\n</html>\\r\\n'\n"
     ]
    }
   ],
   "source": [
    "print(res.content)"
   ]
  },
  {
   "cell_type": "code",
   "execution_count": 11,
   "metadata": {},
   "outputs": [],
   "source": [
    "soup = BeautifulSoup(res.content, 'html.parser')"
   ]
  },
  {
   "cell_type": "code",
   "execution_count": 12,
   "metadata": {},
   "outputs": [],
   "source": [
    "links = soup.find_all('a') # 모든 a 태그 추출"
   ]
  },
  {
   "cell_type": "code",
   "execution_count": 44,
   "metadata": {},
   "outputs": [],
   "source": [
    "pub_cell_line = []\n",
    "for i in links:\n",
    "    href = i.attrs['href']\n",
    "    pub_cell_line.append(href)"
   ]
  },
  {
   "cell_type": "code",
   "execution_count": 45,
   "metadata": {},
   "outputs": [
    {
     "data": {
      "text/plain": [
       "['../',\n",
       " 'A549/',\n",
       " 'A673/',\n",
       " 'B/',\n",
       " 'B_PB/',\n",
       " 'CD14_monocyte_1/',\n",
       " 'CD14_monocyte_PB/',\n",
       " 'CD4_CD25_ab_Treg_PB/',\n",
       " 'CD4_ab_T/',\n",
       " 'CD4_ab_T_PB_1/',\n",
       " 'CD4_ab_T_PB_2/',\n",
       " 'CD4_ab_T_Th/',\n",
       " 'CD4_ab_T_VB/',\n",
       " 'CD8_ab_T_CB/',\n",
       " 'CD8_ab_T_PB/',\n",
       " 'CMP_CD4_1/',\n",
       " 'CMP_CD4_2/',\n",
       " 'CMP_CD4_3/',\n",
       " 'CM_CD4_ab_T_VB/',\n",
       " 'DND_41/',\n",
       " 'EB_CB/',\n",
       " 'EM_CD4_ab_T_PB/',\n",
       " 'EM_CD8_ab_T_VB/',\n",
       " 'EPC_VB/',\n",
       " 'GM12878/',\n",
       " 'H1_hESC_2/',\n",
       " 'H1_hESC_3/',\n",
       " 'H9_1/',\n",
       " 'HCT116/',\n",
       " 'HSMM/',\n",
       " 'HUES48/',\n",
       " 'HUES6/',\n",
       " 'HUES64/',\n",
       " 'HUVEC/',\n",
       " 'HUVEC_prol_CB/',\n",
       " 'HeLa_S3/',\n",
       " 'HepG2/',\n",
       " 'K562/',\n",
       " 'M0_CB/',\n",
       " 'M0_VB/',\n",
       " 'M1_CB/',\n",
       " 'M1_VB/',\n",
       " 'M2_CB/',\n",
       " 'M2_VB/',\n",
       " 'MCF_7/',\n",
       " 'MM_1S/',\n",
       " 'MSC/',\n",
       " 'MSC_VB/',\n",
       " 'NHLF/',\n",
       " 'NK_PB/',\n",
       " 'NPC_1/',\n",
       " 'NPC_2/',\n",
       " 'NPC_3/',\n",
       " 'PC_3/',\n",
       " 'PC_9/',\n",
       " 'SK_N_/',\n",
       " 'T_PB/',\n",
       " 'Th17/',\n",
       " 'UCSF_4/',\n",
       " 'adrenal_gland/',\n",
       " 'aorta/',\n",
       " 'astrocyte/',\n",
       " 'bipolar_neuron/',\n",
       " 'brain_1/',\n",
       " 'cardiac_muscle/',\n",
       " 'dermal_fibroblast/',\n",
       " 'endodermal/',\n",
       " 'eosinophil_VB/',\n",
       " 'esophagus/',\n",
       " 'foreskin_fibroblast_2/',\n",
       " 'foreskin_keratinocyte_1/',\n",
       " 'foreskin_keratinocyte_2/',\n",
       " 'foreskin_melanocyte_1/',\n",
       " 'foreskin_melanocyte_2/',\n",
       " 'germinal_matrix/',\n",
       " 'heart/',\n",
       " 'hepatocyte/',\n",
       " 'iPS_15b/',\n",
       " 'iPS_20b/',\n",
       " 'iPS_DF_19_11/',\n",
       " 'iPS_DF_6_9/',\n",
       " 'keratinocyte/',\n",
       " 'kidney/',\n",
       " 'large_intestine/',\n",
       " 'left_ventricle/',\n",
       " 'leg_muscle/',\n",
       " 'lung_1/',\n",
       " 'lung_2/',\n",
       " 'mammary_epithelial_1/',\n",
       " 'mammary_epithelial_2/',\n",
       " 'mammary_myoepithelial/',\n",
       " 'monocyte_CB/',\n",
       " 'monocyte_VB/',\n",
       " 'mononuclear_PB/',\n",
       " 'myotube/',\n",
       " 'naive_B_VB/',\n",
       " 'neuron/',\n",
       " 'neurosphere_C/',\n",
       " 'neurosphere_GE/',\n",
       " 'neutro_myelocyte/',\n",
       " 'neutrophil_CB/',\n",
       " 'neutrophil_VB/',\n",
       " 'osteoblast/',\n",
       " 'ovary/',\n",
       " 'pancreas/',\n",
       " 'placenta/',\n",
       " 'psoas_muscle/',\n",
       " 'right_atrium/',\n",
       " 'right_ventricle/',\n",
       " 'sigmoid_colon/',\n",
       " 'small_intestine_1/',\n",
       " 'small_intestine_2/',\n",
       " 'spleen/',\n",
       " 'stomach_1/',\n",
       " 'stomach_2/',\n",
       " 'thymus_1/',\n",
       " 'thymus_2/',\n",
       " 'trophoblast/',\n",
       " 'trunk_muscle/']"
      ]
     },
     "execution_count": 45,
     "metadata": {},
     "output_type": "execute_result"
    }
   ],
   "source": [
    "pub_cell_line"
   ]
  },
  {
   "cell_type": "code",
   "execution_count": 46,
   "metadata": {},
   "outputs": [],
   "source": [
    "pub_cell_line = pd.DataFrame(pub_cell_line)"
   ]
  },
  {
   "cell_type": "code",
   "execution_count": 47,
   "metadata": {},
   "outputs": [
    {
     "data": {
      "text/html": [
       "<div>\n",
       "<style scoped>\n",
       "    .dataframe tbody tr th:only-of-type {\n",
       "        vertical-align: middle;\n",
       "    }\n",
       "\n",
       "    .dataframe tbody tr th {\n",
       "        vertical-align: top;\n",
       "    }\n",
       "\n",
       "    .dataframe thead th {\n",
       "        text-align: right;\n",
       "    }\n",
       "</style>\n",
       "<table border=\"1\" class=\"dataframe\">\n",
       "  <thead>\n",
       "    <tr style=\"text-align: right;\">\n",
       "      <th></th>\n",
       "      <th>0</th>\n",
       "    </tr>\n",
       "  </thead>\n",
       "  <tbody>\n",
       "    <tr>\n",
       "      <th>0</th>\n",
       "      <td>..</td>\n",
       "    </tr>\n",
       "    <tr>\n",
       "      <th>1</th>\n",
       "      <td>A549</td>\n",
       "    </tr>\n",
       "    <tr>\n",
       "      <th>2</th>\n",
       "      <td>A673</td>\n",
       "    </tr>\n",
       "    <tr>\n",
       "      <th>3</th>\n",
       "      <td>B</td>\n",
       "    </tr>\n",
       "    <tr>\n",
       "      <th>4</th>\n",
       "      <td>B_PB</td>\n",
       "    </tr>\n",
       "    <tr>\n",
       "      <th>...</th>\n",
       "      <td>...</td>\n",
       "    </tr>\n",
       "    <tr>\n",
       "      <th>114</th>\n",
       "      <td>stomach_2</td>\n",
       "    </tr>\n",
       "    <tr>\n",
       "      <th>115</th>\n",
       "      <td>thymus_1</td>\n",
       "    </tr>\n",
       "    <tr>\n",
       "      <th>116</th>\n",
       "      <td>thymus_2</td>\n",
       "    </tr>\n",
       "    <tr>\n",
       "      <th>117</th>\n",
       "      <td>trophoblast</td>\n",
       "    </tr>\n",
       "    <tr>\n",
       "      <th>118</th>\n",
       "      <td>trunk_muscle</td>\n",
       "    </tr>\n",
       "  </tbody>\n",
       "</table>\n",
       "<p>119 rows × 1 columns</p>\n",
       "</div>"
      ],
      "text/plain": [
       "                0\n",
       "0              ..\n",
       "1            A549\n",
       "2            A673\n",
       "3               B\n",
       "4            B_PB\n",
       "..            ...\n",
       "114     stomach_2\n",
       "115      thymus_1\n",
       "116      thymus_2\n",
       "117   trophoblast\n",
       "118  trunk_muscle\n",
       "\n",
       "[119 rows x 1 columns]"
      ]
     },
     "execution_count": 47,
     "metadata": {},
     "output_type": "execute_result"
    }
   ],
   "source": [
    "pub_cell_line[0] = pub_cell_line[0].str.split('/').str[0]\n",
    "pub_cell_line"
   ]
  },
  {
   "cell_type": "code",
   "execution_count": 52,
   "metadata": {},
   "outputs": [],
   "source": [
    "pub_cell_line = pub_cell_line.drop(0, 0)"
   ]
  },
  {
   "cell_type": "code",
   "execution_count": 53,
   "metadata": {},
   "outputs": [
    {
     "data": {
      "text/html": [
       "<div>\n",
       "<style scoped>\n",
       "    .dataframe tbody tr th:only-of-type {\n",
       "        vertical-align: middle;\n",
       "    }\n",
       "\n",
       "    .dataframe tbody tr th {\n",
       "        vertical-align: top;\n",
       "    }\n",
       "\n",
       "    .dataframe thead th {\n",
       "        text-align: right;\n",
       "    }\n",
       "</style>\n",
       "<table border=\"1\" class=\"dataframe\">\n",
       "  <thead>\n",
       "    <tr style=\"text-align: right;\">\n",
       "      <th></th>\n",
       "      <th>0</th>\n",
       "    </tr>\n",
       "  </thead>\n",
       "  <tbody>\n",
       "    <tr>\n",
       "      <th>1</th>\n",
       "      <td>A549</td>\n",
       "    </tr>\n",
       "    <tr>\n",
       "      <th>2</th>\n",
       "      <td>A673</td>\n",
       "    </tr>\n",
       "    <tr>\n",
       "      <th>3</th>\n",
       "      <td>B</td>\n",
       "    </tr>\n",
       "    <tr>\n",
       "      <th>4</th>\n",
       "      <td>B_PB</td>\n",
       "    </tr>\n",
       "    <tr>\n",
       "      <th>5</th>\n",
       "      <td>CD14_monocyte_1</td>\n",
       "    </tr>\n",
       "    <tr>\n",
       "      <th>...</th>\n",
       "      <td>...</td>\n",
       "    </tr>\n",
       "    <tr>\n",
       "      <th>114</th>\n",
       "      <td>stomach_2</td>\n",
       "    </tr>\n",
       "    <tr>\n",
       "      <th>115</th>\n",
       "      <td>thymus_1</td>\n",
       "    </tr>\n",
       "    <tr>\n",
       "      <th>116</th>\n",
       "      <td>thymus_2</td>\n",
       "    </tr>\n",
       "    <tr>\n",
       "      <th>117</th>\n",
       "      <td>trophoblast</td>\n",
       "    </tr>\n",
       "    <tr>\n",
       "      <th>118</th>\n",
       "      <td>trunk_muscle</td>\n",
       "    </tr>\n",
       "  </tbody>\n",
       "</table>\n",
       "<p>118 rows × 1 columns</p>\n",
       "</div>"
      ],
      "text/plain": [
       "                   0\n",
       "1               A549\n",
       "2               A673\n",
       "3                  B\n",
       "4               B_PB\n",
       "5    CD14_monocyte_1\n",
       "..               ...\n",
       "114        stomach_2\n",
       "115         thymus_1\n",
       "116         thymus_2\n",
       "117      trophoblast\n",
       "118     trunk_muscle\n",
       "\n",
       "[118 rows x 1 columns]"
      ]
     },
     "execution_count": 53,
     "metadata": {},
     "output_type": "execute_result"
    }
   ],
   "source": [
    "pub_cell_line"
   ]
  },
  {
   "cell_type": "code",
   "execution_count": 65,
   "metadata": {},
   "outputs": [
    {
     "data": {
      "text/html": [
       "<div>\n",
       "<style scoped>\n",
       "    .dataframe tbody tr th:only-of-type {\n",
       "        vertical-align: middle;\n",
       "    }\n",
       "\n",
       "    .dataframe tbody tr th {\n",
       "        vertical-align: top;\n",
       "    }\n",
       "\n",
       "    .dataframe thead th {\n",
       "        text-align: right;\n",
       "    }\n",
       "</style>\n",
       "<table border=\"1\" class=\"dataframe\">\n",
       "  <thead>\n",
       "    <tr style=\"text-align: right;\">\n",
       "      <th></th>\n",
       "      <th>TFBS cell line</th>\n",
       "      <th>Ensemble cell line</th>\n",
       "    </tr>\n",
       "  </thead>\n",
       "  <tbody>\n",
       "    <tr>\n",
       "      <th>0</th>\n",
       "      <td>SK-N.</td>\n",
       "      <td>NaN</td>\n",
       "    </tr>\n",
       "    <tr>\n",
       "      <th>1</th>\n",
       "      <td>2CMCF-7</td>\n",
       "      <td>A549</td>\n",
       "    </tr>\n",
       "    <tr>\n",
       "      <th>2</th>\n",
       "      <td>2CH1-hESC_3</td>\n",
       "      <td>A673</td>\n",
       "    </tr>\n",
       "    <tr>\n",
       "      <th>3</th>\n",
       "      <td>2CHCT116</td>\n",
       "      <td>B</td>\n",
       "    </tr>\n",
       "    <tr>\n",
       "      <th>4</th>\n",
       "      <td>GM12878</td>\n",
       "      <td>B_PB</td>\n",
       "    </tr>\n",
       "    <tr>\n",
       "      <th>...</th>\n",
       "      <td>...</td>\n",
       "      <td>...</td>\n",
       "    </tr>\n",
       "    <tr>\n",
       "      <th>114</th>\n",
       "      <td>NaN</td>\n",
       "      <td>stomach_2</td>\n",
       "    </tr>\n",
       "    <tr>\n",
       "      <th>115</th>\n",
       "      <td>NaN</td>\n",
       "      <td>thymus_1</td>\n",
       "    </tr>\n",
       "    <tr>\n",
       "      <th>116</th>\n",
       "      <td>NaN</td>\n",
       "      <td>thymus_2</td>\n",
       "    </tr>\n",
       "    <tr>\n",
       "      <th>117</th>\n",
       "      <td>NaN</td>\n",
       "      <td>trophoblast</td>\n",
       "    </tr>\n",
       "    <tr>\n",
       "      <th>118</th>\n",
       "      <td>NaN</td>\n",
       "      <td>trunk_muscle</td>\n",
       "    </tr>\n",
       "  </tbody>\n",
       "</table>\n",
       "<p>119 rows × 2 columns</p>\n",
       "</div>"
      ],
      "text/plain": [
       "    TFBS cell line Ensemble cell line\n",
       "0            SK-N.                NaN\n",
       "1          2CMCF-7               A549\n",
       "2      2CH1-hESC_3               A673\n",
       "3         2CHCT116                  B\n",
       "4          GM12878               B_PB\n",
       "..             ...                ...\n",
       "114            NaN          stomach_2\n",
       "115            NaN           thymus_1\n",
       "116            NaN           thymus_2\n",
       "117            NaN        trophoblast\n",
       "118            NaN       trunk_muscle\n",
       "\n",
       "[119 rows x 2 columns]"
      ]
     },
     "execution_count": 65,
     "metadata": {},
     "output_type": "execute_result"
    }
   ],
   "source": [
    "result = pd.concat([cell_line, pub_cell_line], axis = 1)\n",
    "result.columns = ['TFBS cell line', 'Ensemble cell line']\n",
    "result"
   ]
  },
  {
   "cell_type": "code",
   "execution_count": 66,
   "metadata": {},
   "outputs": [],
   "source": [
    "result.to_csv('cell_line_list.csv', index = False)"
   ]
  },
  {
   "cell_type": "code",
   "execution_count": null,
   "metadata": {},
   "outputs": [],
   "source": []
  }
 ],
 "metadata": {
  "kernelspec": {
   "display_name": "Python 3",
   "language": "python",
   "name": "python3"
  },
  "language_info": {
   "codemirror_mode": {
    "name": "ipython",
    "version": 3
   },
   "file_extension": ".py",
   "mimetype": "text/x-python",
   "name": "python",
   "nbconvert_exporter": "python",
   "pygments_lexer": "ipython3",
   "version": "3.8.5"
  }
 },
 "nbformat": 4,
 "nbformat_minor": 4
}
