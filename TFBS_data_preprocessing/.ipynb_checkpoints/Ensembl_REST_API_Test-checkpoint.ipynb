{
 "cells": [
  {
   "cell_type": "code",
   "execution_count": 6,
   "metadata": {},
   "outputs": [],
   "source": [
    "import requests, sys\n",
    "import pandas as pd"
   ]
  },
  {
   "cell_type": "code",
   "execution_count": null,
   "metadata": {},
   "outputs": [],
   "source": [
    "f = pd.read_csv('21test.csv')\n",
    "f"
   ]
  },
  {
   "cell_type": "code",
   "execution_count": 8,
   "metadata": {},
   "outputs": [],
   "source": [
    "start = f['4']\n",
    "end = f['5']"
   ]
  },
  {
   "cell_type": "code",
   "execution_count": 9,
   "metadata": {},
   "outputs": [
    {
     "name": "stdout",
     "output_type": "stream",
     "text": [
      "GTTCAAGACCAGTTT\n",
      "GGTTGGGTTAGGG\n",
      "TTCAAGACCAGTTTG\n",
      "AAAAATACAAAAAAGT\n",
      "GTGATGTGCACCTGG\n",
      "GATGTGCACCT\n",
      "CTCAGGGGGCTGAG\n",
      "CAGGGGGCTGAGGCA\n",
      "TTCAAGACCAGTTTG\n",
      "GTTGGGTTAGGGTTA\n",
      "ACCAAAAATACAA\n",
      "TGGCTAGTCA\n",
      "GGCTAGTCATGGT\n"
     ]
    }
   ],
   "source": [
    "sequence = []\n",
    "server = \"https://rest.ensembl.org\"\n",
    "for i in f.index:\n",
    "    ext = \"/sequence/region/human/{0}:{1}..{2}?\".format('21', start[i], end[i])\n",
    " \n",
    "    r = requests.get(server+ext, headers={ \"Content-Type\" : \"text/plain\"})\n",
    "\n",
    "    if not r.ok:\n",
    "      r.raise_for_status()\n",
    "      sys.exit()\n",
    "\n",
    "\n",
    "    print(r.text)\n",
    "    sequence.append(r.text)"
   ]
  },
  {
   "cell_type": "code",
   "execution_count": 10,
   "metadata": {},
   "outputs": [],
   "source": [
    "f['sequence'] = sequence"
   ]
  },
  {
   "cell_type": "code",
   "execution_count": null,
   "metadata": {},
   "outputs": [],
   "source": [
    "f"
   ]
  },
  {
   "cell_type": "code",
   "execution_count": null,
   "metadata": {},
   "outputs": [],
   "source": []
  }
 ],
 "metadata": {
  "kernelspec": {
   "display_name": "Python 3",
   "language": "python",
   "name": "python3"
  },
  "language_info": {
   "codemirror_mode": {
    "name": "ipython",
    "version": 3
   },
   "file_extension": ".py",
   "mimetype": "text/x-python",
   "name": "python",
   "nbconvert_exporter": "python",
   "pygments_lexer": "ipython3",
   "version": "3.8.5"
  }
 },
 "nbformat": 4,
 "nbformat_minor": 4
}
