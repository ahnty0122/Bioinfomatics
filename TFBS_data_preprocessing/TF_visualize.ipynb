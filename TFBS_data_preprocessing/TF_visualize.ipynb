{
 "cells": [
  {
   "cell_type": "code",
   "execution_count": 1,
   "metadata": {},
   "outputs": [],
   "source": [
    "import pandas as pd\n",
    "import numpy as np"
   ]
  },
  {
   "cell_type": "code",
   "execution_count": null,
   "metadata": {},
   "outputs": [],
   "source": [
    "test = pd.DataFrame(np.array([['TGCCGCTAGAGGACGCCGTGGCCGCGCTCAGCGGTGCCGCTAGAGG', 'PAX4', 'GCCGTGG'], ['TGCCGCTAGAGGACGCCGTGGCCGCGCTCAGCGGTGCCGCTAGAGG', 'PAX3', 'TAGA'], ['TGCCGCTAGAGGACGCCGTGGCCGCGCTCAGCGGTGCCGCTAGAGG', 'ETV1', 'CGGTGCC'], ['TGCCGCTAGAGGACGCCGTGGCCGCGCTCAGCGGTGCCGCTAGAGG', 'RARA', 'TAGAGGT']]))\n",
    "test"
   ]
  },
  {
   "cell_type": "code",
   "execution_count": 3,
   "metadata": {},
   "outputs": [],
   "source": [
    "test.columns = ['Artificial_promoter_sequence', 'TF', 'TF_sequence']"
   ]
  },
  {
   "cell_type": "code",
   "execution_count": null,
   "metadata": {},
   "outputs": [],
   "source": [
    "test"
   ]
  },
  {
   "cell_type": "code",
   "execution_count": 116,
   "metadata": {},
   "outputs": [],
   "source": [
    "final = []\n",
    "for target, i in zip(test['Artificial_promoter_sequence'], test['TF_sequence']):\n",
    "    try:\n",
    "        if type(target.index(i)) == int:\n",
    "            change = ''\n",
    "            for j in range(len(i)):\n",
    "                change += 'x'\n",
    "            target = target.replace(i, change)\n",
    "            final.append(target)\n",
    "    except:\n",
    "        final.append(target)\n",
    "        continue"
   ]
  },
  {
   "cell_type": "code",
   "execution_count": 9,
   "metadata": {},
   "outputs": [],
   "source": [
    "final = []\n",
    "for target, i in zip(test['Artificial_promoter_sequence'], test['TF_sequence']):\n",
    "    try:\n",
    "        if type(target.index(i)) == int:\n",
    "            target = target[:target.index(i)] + '*' + i + '*' + target[target.index(i)+len(i):]\n",
    "            final.append(target)\n",
    "    except:\n",
    "        final.append(target)\n",
    "        continue"
   ]
  },
  {
   "cell_type": "code",
   "execution_count": 10,
   "metadata": {},
   "outputs": [
    {
     "data": {
      "text/plain": [
       "['TGCCGCTAGAGGAC*GCCGTGG*CCGCGCTCAGCGGTGCCGCTAGAGG',\n",
       " 'TGCCGC*TAGA*GGACGCCGTGGCCGCGCTCAGCGGTGCCGCTAGAGG',\n",
       " 'TGCCGCTAGAGGACGCCGTGGCCGCGCTCAG*CGGTGCC*GCTAGAGG',\n",
       " 'TGCCGCTAGAGGACGCCGTGGCCGCGCTCAGCGGTGCCGCTAGAGG']"
      ]
     },
     "execution_count": 10,
     "metadata": {},
     "output_type": "execute_result"
    }
   ],
   "source": [
    "final"
   ]
  },
  {
   "cell_type": "code",
   "execution_count": null,
   "metadata": {},
   "outputs": [],
   "source": [
    "test['Artificial_promoter_sequence'] = final\n",
    "test"
   ]
  },
  {
   "cell_type": "code",
   "execution_count": 18,
   "metadata": {},
   "outputs": [
    {
     "data": {
      "text/plain": [
       "31"
      ]
     },
     "execution_count": 18,
     "metadata": {},
     "output_type": "execute_result"
    }
   ],
   "source": [
    "sequence = \"TGCCGCTAGAGGACGCCGTGGCCGCGCTCAGCGGTGCCGCTAGAGG\"\n",
    "sequence.index('CGGTGCC')"
   ]
  },
  {
   "cell_type": "code",
   "execution_count": null,
   "metadata": {},
   "outputs": [],
   "source": [
    "GraphicFeature(start=0, end=20, strand=+1, color=\"#ffd700\",\n",
    "                   label=\"Small feature\")"
   ]
  },
  {
   "cell_type": "code",
   "execution_count": 24,
   "metadata": {},
   "outputs": [
    {
     "data": {
      "image/png": "[encoded data removed]",
      "text/plain": [
       "<Figure size 360x244.8 with 1 Axes>"
      ]
     },
     "metadata": {},
     "output_type": "display_data"
    }
   ],
   "source": [
    "from dna_features_viewer import GraphicFeature, GraphicRecord\n",
    "\n",
    "sequence = \"TGCCGCTAGAGGACGCCGTGGCCGCGCTCAGCGGTGCCGCTAGAGG\"\n",
    "record = GraphicRecord(sequence=sequence, features=[\n",
    "    GraphicFeature(start=14, end=20, strand=+1, color='#ffcccc', label = 'PAX4'),\n",
    "    GraphicFeature(start=6, end=10, strand=+1, color='#ccccff', label = 'PAX3'),\n",
    "    GraphicFeature(start=6, end=10, strand=+1, color='#ccccff', label = 'ETV1'),\n",
    "    GraphicFeature(start=6, end=10, strand=+1, color='#ccccff', label = 'ETV1')\n",
    "])\n",
    "\n",
    "ax, _ = record.plot(figure_width=5)\n",
    "record.plot_sequence(ax)\n",
    "ax.figure.savefig('sequence_and_translation.png', bbox_inches='tight')\n"
   ]
  },
  {
   "cell_type": "code",
   "execution_count": null,
   "metadata": {},
   "outputs": [],
   "source": []
  }
 ],
 "metadata": {
  "kernelspec": {
   "display_name": "Python 3",
   "language": "python",
   "name": "python3"
  },
  "language_info": {
   "codemirror_mode": {
    "name": "ipython",
    "version": 3
   },
   "file_extension": ".py",
   "mimetype": "text/x-python",
   "name": "python",
   "nbconvert_exporter": "python",
   "pygments_lexer": "ipython3",
   "version": "3.8.5"
  }
 },
 "nbformat": 4,
 "nbformat_minor": 4
}
